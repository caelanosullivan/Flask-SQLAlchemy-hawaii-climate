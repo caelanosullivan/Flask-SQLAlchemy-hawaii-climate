{
 "cells": [
  {
   "cell_type": "code",
   "execution_count": 174,
   "metadata": {
    "collapsed": true
   },
   "outputs": [],
   "source": [
    "# Import Dependencies\n",
    "import numpy as np\n",
    "import matplotlib.pyplot as plt\n",
    "import pandas as pd\n",
    "import os\n",
    "from pylab import *"
   ]
  },
  {
   "cell_type": "code",
   "execution_count": 175,
   "metadata": {
    "collapsed": true
   },
   "outputs": [],
   "source": [
    "# Create references to the CSVs and import into Pandas DataFrames\n",
    "\n",
    "measurements_csv = os.path.join(\"hawaii_measurements.csv\")\n",
    "stations_csv = os.path.join(\"hawaii_stations.csv\")\n",
    "\n",
    "measurements_df = pd.read_csv(measurements_csv, low_memory=False)\n",
    "stations_df = pd.read_csv(stations_csv, low_memory=False)"
   ]
  },
  {
   "cell_type": "code",
   "execution_count": 176,
   "metadata": {
    "scrolled": true
   },
   "outputs": [],
   "source": [
    "# measurements_df.head()\n",
    "# measurements_df.describe()\n",
    "# print(measurements_df[\"prcp\"].value_counts())\n",
    "# print(measurements_df[\"tobs\"].value_counts())"
   ]
  },
  {
   "cell_type": "code",
   "execution_count": 177,
   "metadata": {},
   "outputs": [
    {
     "data": {
      "text/plain": [
       "False"
      ]
     },
     "execution_count": 177,
     "metadata": {},
     "output_type": "execute_result"
    }
   ],
   "source": [
    "# Check for null values anywhere in stations_df\n",
    "stations_df.isnull().values.any()\n",
    "\n",
    "# No null values, so we won't have to clean for NaNs."
   ]
  },
  {
   "cell_type": "code",
   "execution_count": 178,
   "metadata": {},
   "outputs": [
    {
     "data": {
      "text/plain": [
       "station    False\n",
       "date       False\n",
       "prcp        True\n",
       "tobs       False\n",
       "dtype: bool"
      ]
     },
     "execution_count": 178,
     "metadata": {},
     "output_type": "execute_result"
    }
   ],
   "source": [
    "# Check for null values in measurements_df columns\n",
    "measurements_df.isnull().any()"
   ]
  },
  {
   "cell_type": "code",
   "execution_count": 179,
   "metadata": {},
   "outputs": [
    {
     "data": {
      "text/plain": [
       "station       0\n",
       "date          0\n",
       "prcp       1447\n",
       "tobs          0\n",
       "dtype: int64"
      ]
     },
     "execution_count": 179,
     "metadata": {},
     "output_type": "execute_result"
    }
   ],
   "source": [
    "# Count NaNs by measurements_df column\n",
    "measurements_df.isnull().sum()"
   ]
  },
  {
   "cell_type": "code",
   "execution_count": 185,
   "metadata": {},
   "outputs": [
    {
     "data": {
      "text/html": [
       "<div>\n",
       "<style>\n",
       "    .dataframe thead tr:only-child th {\n",
       "        text-align: right;\n",
       "    }\n",
       "\n",
       "    .dataframe thead th {\n",
       "        text-align: left;\n",
       "    }\n",
       "\n",
       "    .dataframe tbody tr th {\n",
       "        vertical-align: top;\n",
       "    }\n",
       "</style>\n",
       "<table border=\"1\" class=\"dataframe\">\n",
       "  <thead>\n",
       "    <tr style=\"text-align: right;\">\n",
       "      <th></th>\n",
       "      <th>count</th>\n",
       "      <th>mean</th>\n",
       "      <th>std</th>\n",
       "      <th>min</th>\n",
       "      <th>25%</th>\n",
       "      <th>50%</th>\n",
       "      <th>75%</th>\n",
       "      <th>max</th>\n",
       "    </tr>\n",
       "    <tr>\n",
       "      <th>station</th>\n",
       "      <th></th>\n",
       "      <th></th>\n",
       "      <th></th>\n",
       "      <th></th>\n",
       "      <th></th>\n",
       "      <th></th>\n",
       "      <th></th>\n",
       "      <th></th>\n",
       "    </tr>\n",
       "  </thead>\n",
       "  <tbody>\n",
       "    <tr>\n",
       "      <th>USC00511918</th>\n",
       "      <td>1979.0</td>\n",
       "      <td>0.047971</td>\n",
       "      <td>0.241899</td>\n",
       "      <td>0.0</td>\n",
       "      <td>0.00</td>\n",
       "      <td>0.000000</td>\n",
       "      <td>0.010000</td>\n",
       "      <td>4.00</td>\n",
       "    </tr>\n",
       "    <tr>\n",
       "      <th>USC00513117</th>\n",
       "      <td>2709.0</td>\n",
       "      <td>0.141921</td>\n",
       "      <td>0.432863</td>\n",
       "      <td>0.0</td>\n",
       "      <td>0.00</td>\n",
       "      <td>0.020000</td>\n",
       "      <td>0.100000</td>\n",
       "      <td>7.65</td>\n",
       "    </tr>\n",
       "    <tr>\n",
       "      <th>USC00514830</th>\n",
       "      <td>2202.0</td>\n",
       "      <td>0.121058</td>\n",
       "      <td>0.388102</td>\n",
       "      <td>0.0</td>\n",
       "      <td>0.00</td>\n",
       "      <td>0.030000</td>\n",
       "      <td>0.121058</td>\n",
       "      <td>11.53</td>\n",
       "    </tr>\n",
       "    <tr>\n",
       "      <th>USC00516128</th>\n",
       "      <td>2612.0</td>\n",
       "      <td>0.429988</td>\n",
       "      <td>0.695302</td>\n",
       "      <td>0.0</td>\n",
       "      <td>0.02</td>\n",
       "      <td>0.190000</td>\n",
       "      <td>0.512500</td>\n",
       "      <td>8.06</td>\n",
       "    </tr>\n",
       "    <tr>\n",
       "      <th>USC00517948</th>\n",
       "      <td>1372.0</td>\n",
       "      <td>0.063602</td>\n",
       "      <td>0.172044</td>\n",
       "      <td>0.0</td>\n",
       "      <td>0.00</td>\n",
       "      <td>0.063602</td>\n",
       "      <td>0.063602</td>\n",
       "      <td>2.80</td>\n",
       "    </tr>\n",
       "    <tr>\n",
       "      <th>USC00518838</th>\n",
       "      <td>511.0</td>\n",
       "      <td>0.207222</td>\n",
       "      <td>0.415640</td>\n",
       "      <td>0.0</td>\n",
       "      <td>0.02</td>\n",
       "      <td>0.190000</td>\n",
       "      <td>0.207222</td>\n",
       "      <td>6.30</td>\n",
       "    </tr>\n",
       "    <tr>\n",
       "      <th>USC00519281</th>\n",
       "      <td>2772.0</td>\n",
       "      <td>0.212352</td>\n",
       "      <td>0.543312</td>\n",
       "      <td>0.0</td>\n",
       "      <td>0.00</td>\n",
       "      <td>0.040000</td>\n",
       "      <td>0.190000</td>\n",
       "      <td>9.64</td>\n",
       "    </tr>\n",
       "    <tr>\n",
       "      <th>USC00519397</th>\n",
       "      <td>2724.0</td>\n",
       "      <td>0.049020</td>\n",
       "      <td>0.209070</td>\n",
       "      <td>0.0</td>\n",
       "      <td>0.00</td>\n",
       "      <td>0.000000</td>\n",
       "      <td>0.020000</td>\n",
       "      <td>4.20</td>\n",
       "    </tr>\n",
       "    <tr>\n",
       "      <th>USC00519523</th>\n",
       "      <td>2669.0</td>\n",
       "      <td>0.114961</td>\n",
       "      <td>0.402711</td>\n",
       "      <td>0.0</td>\n",
       "      <td>0.00</td>\n",
       "      <td>0.000000</td>\n",
       "      <td>0.090000</td>\n",
       "      <td>6.38</td>\n",
       "    </tr>\n",
       "  </tbody>\n",
       "</table>\n",
       "</div>"
      ],
      "text/plain": [
       "              count      mean       std  min   25%       50%       75%    max\n",
       "station                                                                      \n",
       "USC00511918  1979.0  0.047971  0.241899  0.0  0.00  0.000000  0.010000   4.00\n",
       "USC00513117  2709.0  0.141921  0.432863  0.0  0.00  0.020000  0.100000   7.65\n",
       "USC00514830  2202.0  0.121058  0.388102  0.0  0.00  0.030000  0.121058  11.53\n",
       "USC00516128  2612.0  0.429988  0.695302  0.0  0.02  0.190000  0.512500   8.06\n",
       "USC00517948  1372.0  0.063602  0.172044  0.0  0.00  0.063602  0.063602   2.80\n",
       "USC00518838   511.0  0.207222  0.415640  0.0  0.02  0.190000  0.207222   6.30\n",
       "USC00519281  2772.0  0.212352  0.543312  0.0  0.00  0.040000  0.190000   9.64\n",
       "USC00519397  2724.0  0.049020  0.209070  0.0  0.00  0.000000  0.020000   4.20\n",
       "USC00519523  2669.0  0.114961  0.402711  0.0  0.00  0.000000  0.090000   6.38"
      ]
     },
     "execution_count": 185,
     "metadata": {},
     "output_type": "execute_result"
    }
   ],
   "source": [
    "measurements_df['prcp'].groupby(measurements_df['station']).describe()"
   ]
  },
  {
   "cell_type": "code",
   "execution_count": 181,
   "metadata": {},
   "outputs": [
    {
     "data": {
      "text/plain": [
       "station\n",
       "USC00511918    0.047971\n",
       "USC00513117    0.141921\n",
       "USC00514830    0.121058\n",
       "USC00516128    0.429988\n",
       "USC00517948    0.063602\n",
       "USC00518838    0.207222\n",
       "USC00519281    0.212352\n",
       "USC00519397    0.049020\n",
       "USC00519523    0.114961\n",
       "Name: prcp, dtype: float64"
      ]
     },
     "execution_count": 181,
     "metadata": {},
     "output_type": "execute_result"
    }
   ],
   "source": [
    "# Calculate mean 'prcp' values by station\n",
    "measurements_df.groupby(\"station\").mean()[\"prcp\"]\n",
    "\n",
    "# Find which rows contain NaN\n",
    "# measurements_nan_rows = measurements_df[measurements_df['prcp'].isnull()]"
   ]
  },
  {
   "cell_type": "code",
   "execution_count": 182,
   "metadata": {},
   "outputs": [],
   "source": [
    "# Perform 'prcp' mean value imputation per station\n",
    "measurements_df[\"prcp\"] = measurements_df.groupby(\"station\").transform(lambda x: x.fillna(x.mean()))\n",
    "\n",
    "# Confirm missing values were substituted (should return False)\n",
    "# measurements_df['prcp'].isnull().any()\n",
    "\n",
    "# We can prove this maintained the means by station\n",
    "# measurements_df.groupby(\"station\").mean()[\"prcp\"]"
   ]
  },
  {
   "cell_type": "code",
   "execution_count": 183,
   "metadata": {},
   "outputs": [
    {
     "data": {
      "text/html": [
       "<div>\n",
       "<style>\n",
       "    .dataframe thead tr:only-child th {\n",
       "        text-align: right;\n",
       "    }\n",
       "\n",
       "    .dataframe thead th {\n",
       "        text-align: left;\n",
       "    }\n",
       "\n",
       "    .dataframe tbody tr th {\n",
       "        vertical-align: top;\n",
       "    }\n",
       "</style>\n",
       "<table border=\"1\" class=\"dataframe\">\n",
       "  <thead>\n",
       "    <tr style=\"text-align: right;\">\n",
       "      <th></th>\n",
       "      <th>count</th>\n",
       "      <th>mean</th>\n",
       "      <th>std</th>\n",
       "      <th>min</th>\n",
       "      <th>25%</th>\n",
       "      <th>50%</th>\n",
       "      <th>75%</th>\n",
       "      <th>max</th>\n",
       "    </tr>\n",
       "    <tr>\n",
       "      <th>station</th>\n",
       "      <th></th>\n",
       "      <th></th>\n",
       "      <th></th>\n",
       "      <th></th>\n",
       "      <th></th>\n",
       "      <th></th>\n",
       "      <th></th>\n",
       "      <th></th>\n",
       "    </tr>\n",
       "  </thead>\n",
       "  <tbody>\n",
       "    <tr>\n",
       "      <th>USC00511918</th>\n",
       "      <td>1979.0</td>\n",
       "      <td>0.047971</td>\n",
       "      <td>0.241899</td>\n",
       "      <td>0.0</td>\n",
       "      <td>0.00</td>\n",
       "      <td>0.000000</td>\n",
       "      <td>0.010000</td>\n",
       "      <td>4.00</td>\n",
       "    </tr>\n",
       "    <tr>\n",
       "      <th>USC00513117</th>\n",
       "      <td>2709.0</td>\n",
       "      <td>0.141921</td>\n",
       "      <td>0.432863</td>\n",
       "      <td>0.0</td>\n",
       "      <td>0.00</td>\n",
       "      <td>0.020000</td>\n",
       "      <td>0.100000</td>\n",
       "      <td>7.65</td>\n",
       "    </tr>\n",
       "    <tr>\n",
       "      <th>USC00514830</th>\n",
       "      <td>2202.0</td>\n",
       "      <td>0.121058</td>\n",
       "      <td>0.388102</td>\n",
       "      <td>0.0</td>\n",
       "      <td>0.00</td>\n",
       "      <td>0.030000</td>\n",
       "      <td>0.121058</td>\n",
       "      <td>11.53</td>\n",
       "    </tr>\n",
       "    <tr>\n",
       "      <th>USC00516128</th>\n",
       "      <td>2612.0</td>\n",
       "      <td>0.429988</td>\n",
       "      <td>0.695302</td>\n",
       "      <td>0.0</td>\n",
       "      <td>0.02</td>\n",
       "      <td>0.190000</td>\n",
       "      <td>0.512500</td>\n",
       "      <td>8.06</td>\n",
       "    </tr>\n",
       "    <tr>\n",
       "      <th>USC00517948</th>\n",
       "      <td>1372.0</td>\n",
       "      <td>0.063602</td>\n",
       "      <td>0.172044</td>\n",
       "      <td>0.0</td>\n",
       "      <td>0.00</td>\n",
       "      <td>0.063602</td>\n",
       "      <td>0.063602</td>\n",
       "      <td>2.80</td>\n",
       "    </tr>\n",
       "    <tr>\n",
       "      <th>USC00518838</th>\n",
       "      <td>511.0</td>\n",
       "      <td>0.207222</td>\n",
       "      <td>0.415640</td>\n",
       "      <td>0.0</td>\n",
       "      <td>0.02</td>\n",
       "      <td>0.190000</td>\n",
       "      <td>0.207222</td>\n",
       "      <td>6.30</td>\n",
       "    </tr>\n",
       "    <tr>\n",
       "      <th>USC00519281</th>\n",
       "      <td>2772.0</td>\n",
       "      <td>0.212352</td>\n",
       "      <td>0.543312</td>\n",
       "      <td>0.0</td>\n",
       "      <td>0.00</td>\n",
       "      <td>0.040000</td>\n",
       "      <td>0.190000</td>\n",
       "      <td>9.64</td>\n",
       "    </tr>\n",
       "    <tr>\n",
       "      <th>USC00519397</th>\n",
       "      <td>2724.0</td>\n",
       "      <td>0.049020</td>\n",
       "      <td>0.209070</td>\n",
       "      <td>0.0</td>\n",
       "      <td>0.00</td>\n",
       "      <td>0.000000</td>\n",
       "      <td>0.020000</td>\n",
       "      <td>4.20</td>\n",
       "    </tr>\n",
       "    <tr>\n",
       "      <th>USC00519523</th>\n",
       "      <td>2669.0</td>\n",
       "      <td>0.114961</td>\n",
       "      <td>0.402711</td>\n",
       "      <td>0.0</td>\n",
       "      <td>0.00</td>\n",
       "      <td>0.000000</td>\n",
       "      <td>0.090000</td>\n",
       "      <td>6.38</td>\n",
       "    </tr>\n",
       "  </tbody>\n",
       "</table>\n",
       "</div>"
      ],
      "text/plain": [
       "              count      mean       std  min   25%       50%       75%    max\n",
       "station                                                                      \n",
       "USC00511918  1979.0  0.047971  0.241899  0.0  0.00  0.000000  0.010000   4.00\n",
       "USC00513117  2709.0  0.141921  0.432863  0.0  0.00  0.020000  0.100000   7.65\n",
       "USC00514830  2202.0  0.121058  0.388102  0.0  0.00  0.030000  0.121058  11.53\n",
       "USC00516128  2612.0  0.429988  0.695302  0.0  0.02  0.190000  0.512500   8.06\n",
       "USC00517948  1372.0  0.063602  0.172044  0.0  0.00  0.063602  0.063602   2.80\n",
       "USC00518838   511.0  0.207222  0.415640  0.0  0.02  0.190000  0.207222   6.30\n",
       "USC00519281  2772.0  0.212352  0.543312  0.0  0.00  0.040000  0.190000   9.64\n",
       "USC00519397  2724.0  0.049020  0.209070  0.0  0.00  0.000000  0.020000   4.20\n",
       "USC00519523  2669.0  0.114961  0.402711  0.0  0.00  0.000000  0.090000   6.38"
      ]
     },
     "execution_count": 183,
     "metadata": {},
     "output_type": "execute_result"
    }
   ],
   "source": [
    "measurements_df['prcp'].groupby(measurements_df['station']).describe()"
   ]
  },
  {
   "cell_type": "code",
   "execution_count": null,
   "metadata": {
    "collapsed": true
   },
   "outputs": [],
   "source": []
  },
  {
   "cell_type": "code",
   "execution_count": null,
   "metadata": {
    "collapsed": true
   },
   "outputs": [],
   "source": []
  }
 ],
 "metadata": {
  "kernelspec": {
   "display_name": "Python 3",
   "language": "python",
   "name": "python3"
  },
  "language_info": {
   "codemirror_mode": {
    "name": "ipython",
    "version": 3
   },
   "file_extension": ".py",
   "mimetype": "text/x-python",
   "name": "python",
   "nbconvert_exporter": "python",
   "pygments_lexer": "ipython3",
   "version": "3.6.2"
  }
 },
 "nbformat": 4,
 "nbformat_minor": 2
}
