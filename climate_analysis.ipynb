{
 "cells": [
  {
   "cell_type": "code",
   "execution_count": 73,
   "metadata": {
    "collapsed": true
   },
   "outputs": [],
   "source": [
    "# My trip: end by 8/23/17 to be part of the dateset? 10 day trip....\n",
    "\n",
    "# Import Dependencies\n",
    "\n",
    "#import numpy as np\n",
    "import matplotlib.pyplot as plt\n",
    "import pandas as pd\n",
    "#import os\n",
    "from pylab import *\n",
    "\n",
    "from datetime import date\n",
    "from datetime import time\n",
    "from datetime import datetime\n",
    "\n",
    "# Python SQL toolkit and Object Relational Mapper\n",
    "import sqlalchemy\n",
    "from sqlalchemy.ext.automap import automap_base\n",
    "from sqlalchemy.orm import Session\n",
    "from sqlalchemy import create_engine, inspect, func#, MetaData\n",
    "#from sqlalchemy.ext.declarative import declarative_base\n",
    "\n",
    "# Allow us to declare column types\n",
    "#from sqlalchemy import Column, Integer, String, Float\n",
    "\n",
    "# import pymysql\n",
    "# pymysql.install_as_MySQLdb()"
   ]
  },
  {
   "cell_type": "code",
   "execution_count": 74,
   "metadata": {},
   "outputs": [
    {
     "name": "stdout",
     "output_type": "stream",
     "text": [
      "2018-01-05\n"
     ]
    }
   ],
   "source": [
    "today = date.today()\n",
    "print(today)"
   ]
  },
  {
   "cell_type": "code",
   "execution_count": 75,
   "metadata": {},
   "outputs": [
    {
     "name": "stdout",
     "output_type": "stream",
     "text": [
      "01/05/18\n"
     ]
    }
   ],
   "source": [
    "now = datetime.now()\n",
    "print(now.strftime('%m/%d/%y'))"
   ]
  },
  {
   "cell_type": "markdown",
   "metadata": {},
   "source": [
    "## Database Setup"
   ]
  },
  {
   "cell_type": "code",
   "execution_count": 76,
   "metadata": {
    "collapsed": true
   },
   "outputs": [],
   "source": [
    "# Create an engine to the SQLite database file called `hawaii.sqlite`\n",
    "engine = create_engine(\"sqlite:///hawaii.sqlite\")"
   ]
  },
  {
   "cell_type": "code",
   "execution_count": 77,
   "metadata": {},
   "outputs": [
    {
     "data": {
      "text/plain": [
       "['measurements', 'stations']"
      ]
     },
     "execution_count": 77,
     "metadata": {},
     "output_type": "execute_result"
    }
   ],
   "source": [
    "# Check for tables\n",
    "engine.table_names()"
   ]
  },
  {
   "cell_type": "code",
   "execution_count": 119,
   "metadata": {},
   "outputs": [
    {
     "data": {
      "text/plain": [
       "[(1, 'USC00519397', '2010-01-01', 0.08, 65),\n",
       " (2, 'USC00519397', '2010-01-02', 0.0, 63),\n",
       " (3, 'USC00519397', '2010-01-03', 0.0, 74),\n",
       " (4, 'USC00519397', '2010-01-04', 0.0, 76),\n",
       " (5, 'USC00519397', '2010-01-06', 0.0490204841713224, 73),\n",
       " (6, 'USC00519397', '2010-01-07', 0.06, 70),\n",
       " (7, 'USC00519397', '2010-01-08', 0.0, 64),\n",
       " (8, 'USC00519397', '2010-01-09', 0.0, 68),\n",
       " (9, 'USC00519397', '2010-01-10', 0.0, 73),\n",
       " (10, 'USC00519397', '2010-01-11', 0.01, 64)]"
      ]
     },
     "execution_count": 119,
     "metadata": {},
     "output_type": "execute_result"
    }
   ],
   "source": [
    "engine.execute('SELECT * FROM measurements LIMIT 10').fetchall()"
   ]
  },
  {
   "cell_type": "code",
   "execution_count": 78,
   "metadata": {},
   "outputs": [
    {
     "name": "stdout",
     "output_type": "stream",
     "text": [
      "station VARCHAR\n",
      "name VARCHAR\n",
      "latitude FLOAT\n",
      "longitude FLOAT\n",
      "elevation FLOAT\n"
     ]
    }
   ],
   "source": [
    "inspector = inspect(engine)\n",
    "columns = inspector.get_columns('stations')\n",
    "for c in columns:\n",
    "    print(c['name'], c[\"type\"])"
   ]
  },
  {
   "cell_type": "code",
   "execution_count": 79,
   "metadata": {},
   "outputs": [
    {
     "name": "stdout",
     "output_type": "stream",
     "text": [
      "id INTEGER\n",
      "station VARCHAR\n",
      "date VARCHAR\n",
      "prcp FLOAT\n",
      "tobs INTEGER\n"
     ]
    }
   ],
   "source": [
    "inspector = inspect(engine)\n",
    "columns = inspector.get_columns('measurements')\n",
    "for c in columns:\n",
    "    print(c['name'], c[\"type\"])"
   ]
  },
  {
   "cell_type": "markdown",
   "metadata": {},
   "source": [
    "## Reflect and query dates"
   ]
  },
  {
   "cell_type": "code",
   "execution_count": 80,
   "metadata": {
    "collapsed": true
   },
   "outputs": [],
   "source": [
    "# reflect an existing database into a new model\n",
    "Base = automap_base()\n",
    "\n",
    "# reflect the tables\n",
    "Base.prepare(engine, reflect=True)\n",
    "\n",
    "# Save references to the table\n",
    "Measurement = Base.classes.measurements\n",
    "Station = Base.classes.stations\n",
    "\n",
    "# Create our session (link) from Python to the DB\n",
    "session = Session(engine)"
   ]
  },
  {
   "cell_type": "markdown",
   "metadata": {},
   "source": [
    "## Precipitation Analysis"
   ]
  },
  {
   "cell_type": "code",
   "execution_count": 81,
   "metadata": {
    "collapsed": true
   },
   "outputs": [],
   "source": [
    "# # Write a function called `calc_temps` that will accept start date and end date in the format '%Y-%m-%d' \n",
    "# # and return the minimum, average, and maximum temperatures for that range of dates\n",
    "# def calc_temps(start_date, end_date):\n",
    "#     \"\"\"TMIN, TAVG, and TMAX for a list of dates.\n",
    "    \n",
    "#     Args:\n",
    "#         start_date (string): A date string in the format %Y-%m-%d\n",
    "#         end_date (string): A date string in the format %Y-%m-%d\n",
    "        \n",
    "#     Returns:\n",
    "#         TMIN, TAVE, and TMAX\n",
    "#     \"\"\"\n",
    "    \n",
    "#     return session.query(func.min(Measurement.tobs), func.avg(Measurement.tobs), func.max(Measurement.tobs)).\\\n",
    "#         filter(Measurement.date >= start_date).filter(Measurement.date <= end_date).all()\n",
    "# print(calc_temps('2012-02-28', '2012-03-05'))"
   ]
  },
  {
   "cell_type": "code",
   "execution_count": 121,
   "metadata": {},
   "outputs": [
    {
     "name": "stdout",
     "output_type": "stream",
     "text": [
      "[<sqlalchemy.ext.automap.measurements object at 0x10827d0f0>, <sqlalchemy.ext.automap.measurements object at 0x10827d2b0>, <sqlalchemy.ext.automap.measurements object at 0x10827d080>, <sqlalchemy.ext.automap.measurements object at 0x10827d5f8>, <sqlalchemy.ext.automap.measurements object at 0x10827dd30>, <sqlalchemy.ext.automap.measurements object at 0x10827d668>, <sqlalchemy.ext.automap.measurements object at 0x10827dba8>, <sqlalchemy.ext.automap.measurements object at 0x10827df60>, <sqlalchemy.ext.automap.measurements object at 0x10a28b860>, <sqlalchemy.ext.automap.measurements object at 0x10a256860>, <sqlalchemy.ext.automap.measurements object at 0x10a256048>, <sqlalchemy.ext.automap.measurements object at 0x10a2562b0>, <sqlalchemy.ext.automap.measurements object at 0x10a256400>, <sqlalchemy.ext.automap.measurements object at 0x10a256b38>, <sqlalchemy.ext.automap.measurements object at 0x10a2569e8>, <sqlalchemy.ext.automap.measurements object at 0x10a2a5908>, <sqlalchemy.ext.automap.measurements object at 0x10a24db00>, <sqlalchemy.ext.automap.measurements object at 0x10a24d128>, <sqlalchemy.ext.automap.measurements object at 0x10a292668>, <sqlalchemy.ext.automap.measurements object at 0x10a292588>, <sqlalchemy.ext.automap.measurements object at 0x10a292320>, <sqlalchemy.ext.automap.measurements object at 0x10a2925c0>, <sqlalchemy.ext.automap.measurements object at 0x10a292470>, <sqlalchemy.ext.automap.measurements object at 0x109a1f0f0>, <sqlalchemy.ext.automap.measurements object at 0x109a1f4a8>, <sqlalchemy.ext.automap.measurements object at 0x109a1f550>, <sqlalchemy.ext.automap.measurements object at 0x109a1feb8>, <sqlalchemy.ext.automap.measurements object at 0x109a1f6a0>, <sqlalchemy.ext.automap.measurements object at 0x109a1fbe0>, <sqlalchemy.ext.automap.measurements object at 0x109a1f2b0>, <sqlalchemy.ext.automap.measurements object at 0x109a1f358>, <sqlalchemy.ext.automap.measurements object at 0x109a1fa20>, <sqlalchemy.ext.automap.measurements object at 0x109a1f9b0>, <sqlalchemy.ext.automap.measurements object at 0x109a1f668>, <sqlalchemy.ext.automap.measurements object at 0x109a1fa90>, <sqlalchemy.ext.automap.measurements object at 0x109a1f9e8>, <sqlalchemy.ext.automap.measurements object at 0x109a1fcf8>, <sqlalchemy.ext.automap.measurements object at 0x109a1fc18>, <sqlalchemy.ext.automap.measurements object at 0x109a1fd30>, <sqlalchemy.ext.automap.measurements object at 0x109a1f630>, <sqlalchemy.ext.automap.measurements object at 0x109a1f710>, <sqlalchemy.ext.automap.measurements object at 0x109a1f080>, <sqlalchemy.ext.automap.measurements object at 0x109a1f400>, <sqlalchemy.ext.automap.measurements object at 0x109a1fb00>, <sqlalchemy.ext.automap.measurements object at 0x109a1fef0>, <sqlalchemy.ext.automap.measurements object at 0x109a1f940>, <sqlalchemy.ext.automap.measurements object at 0x109a1f160>, <sqlalchemy.ext.automap.measurements object at 0x109a1f518>, <sqlalchemy.ext.automap.measurements object at 0x10828a048>, <sqlalchemy.ext.automap.measurements object at 0x10828a588>, <sqlalchemy.ext.automap.measurements object at 0x10828aeb8>, <sqlalchemy.ext.automap.measurements object at 0x10828a7b8>, <sqlalchemy.ext.automap.measurements object at 0x10828afd0>, <sqlalchemy.ext.automap.measurements object at 0x10828a4e0>, <sqlalchemy.ext.automap.measurements object at 0x10828a9e8>, <sqlalchemy.ext.automap.measurements object at 0x10828a668>, <sqlalchemy.ext.automap.measurements object at 0x10828a0b8>, <sqlalchemy.ext.automap.measurements object at 0x10828a358>, <sqlalchemy.ext.automap.measurements object at 0x10828a978>, <sqlalchemy.ext.automap.measurements object at 0x10828a3c8>, <sqlalchemy.ext.automap.measurements object at 0x10828a240>, <sqlalchemy.ext.automap.measurements object at 0x10828abe0>, <sqlalchemy.ext.automap.measurements object at 0x10828a630>, <sqlalchemy.ext.automap.measurements object at 0x10828ab38>, <sqlalchemy.ext.automap.measurements object at 0x10828ad68>, <sqlalchemy.ext.automap.measurements object at 0x10828a160>, <sqlalchemy.ext.automap.measurements object at 0x10828aef0>, <sqlalchemy.ext.automap.measurements object at 0x10828a198>, <sqlalchemy.ext.automap.measurements object at 0x10828add8>, <sqlalchemy.ext.automap.measurements object at 0x10828af28>, <sqlalchemy.ext.automap.measurements object at 0x108160be0>, <sqlalchemy.ext.automap.measurements object at 0x108160908>, <sqlalchemy.ext.automap.measurements object at 0x1081608d0>, <sqlalchemy.ext.automap.measurements object at 0x1081603c8>, <sqlalchemy.ext.automap.measurements object at 0x1081607f0>, <sqlalchemy.ext.automap.measurements object at 0x108160cf8>, <sqlalchemy.ext.automap.measurements object at 0x108160e10>, <sqlalchemy.ext.automap.measurements object at 0x108160c18>, <sqlalchemy.ext.automap.measurements object at 0x108160240>, <sqlalchemy.ext.automap.measurements object at 0x108295240>, <sqlalchemy.ext.automap.measurements object at 0x108295dd8>, <sqlalchemy.ext.automap.measurements object at 0x108295908>, <sqlalchemy.ext.automap.measurements object at 0x108295ac8>, <sqlalchemy.ext.automap.measurements object at 0x108295d30>, <sqlalchemy.ext.automap.measurements object at 0x108295fd0>, <sqlalchemy.ext.automap.measurements object at 0x108295828>, <sqlalchemy.ext.automap.measurements object at 0x108295c50>, <sqlalchemy.ext.automap.measurements object at 0x108295518>, <sqlalchemy.ext.automap.measurements object at 0x108295f28>, <sqlalchemy.ext.automap.measurements object at 0x108295e10>, <sqlalchemy.ext.automap.measurements object at 0x108295048>, <sqlalchemy.ext.automap.measurements object at 0x108295438>, <sqlalchemy.ext.automap.measurements object at 0x108295940>, <sqlalchemy.ext.automap.measurements object at 0x1082957f0>, <sqlalchemy.ext.automap.measurements object at 0x1082952e8>, <sqlalchemy.ext.automap.measurements object at 0x1082951d0>, <sqlalchemy.ext.automap.measurements object at 0x1082956d8>, <sqlalchemy.ext.automap.measurements object at 0x1082954a8>, <sqlalchemy.ext.automap.measurements object at 0x1082952b0>, <sqlalchemy.ext.automap.measurements object at 0x1082950f0>, <sqlalchemy.ext.automap.measurements object at 0x108295eb8>, <sqlalchemy.ext.automap.measurements object at 0x108295a20>, <sqlalchemy.ext.automap.measurements object at 0x1082959b0>, <sqlalchemy.ext.automap.measurements object at 0x108295c88>, <sqlalchemy.ext.automap.measurements object at 0x108295da0>, <sqlalchemy.ext.automap.measurements object at 0x1082950b8>, <sqlalchemy.ext.automap.measurements object at 0x10a2a5cc0>, <sqlalchemy.ext.automap.measurements object at 0x10a2a5cf8>, <sqlalchemy.ext.automap.measurements object at 0x10a2a5b70>, <sqlalchemy.ext.automap.measurements object at 0x10a2a5d30>, <sqlalchemy.ext.automap.measurements object at 0x10a2a5fd0>, <sqlalchemy.ext.automap.measurements object at 0x10a2a5eb8>, <sqlalchemy.ext.automap.measurements object at 0x10a2a5208>, <sqlalchemy.ext.automap.measurements object at 0x10a2a5a20>, <sqlalchemy.ext.automap.measurements object at 0x10a2a5f98>, <sqlalchemy.ext.automap.measurements object at 0x10a2a5f28>, <sqlalchemy.ext.automap.measurements object at 0x10a2a5e80>, <sqlalchemy.ext.automap.measurements object at 0x10a2a54a8>, <sqlalchemy.ext.automap.measurements object at 0x10a2921d0>, <sqlalchemy.ext.automap.measurements object at 0x10a292518>, <sqlalchemy.ext.automap.measurements object at 0x10a2923c8>, <sqlalchemy.ext.automap.measurements object at 0x10a24d208>, <sqlalchemy.ext.automap.measurements object at 0x10a24d470>, <sqlalchemy.ext.automap.measurements object at 0x10a24d198>, <sqlalchemy.ext.automap.measurements object at 0x10a24d550>, <sqlalchemy.ext.automap.measurements object at 0x10a256208>, <sqlalchemy.ext.automap.measurements object at 0x10a256ef0>, <sqlalchemy.ext.automap.measurements object at 0x10a256b00>, <sqlalchemy.ext.automap.measurements object at 0x10a2568d0>, <sqlalchemy.ext.automap.measurements object at 0x10a256c50>, <sqlalchemy.ext.automap.measurements object at 0x10a256da0>, <sqlalchemy.ext.automap.measurements object at 0x10a256ba8>, <sqlalchemy.ext.automap.measurements object at 0x10a256cc0>, <sqlalchemy.ext.automap.measurements object at 0x10a256e48>, <sqlalchemy.ext.automap.measurements object at 0x10a29ceb8>, <sqlalchemy.ext.automap.measurements object at 0x10a29cda0>, <sqlalchemy.ext.automap.measurements object at 0x10a29cd68>, <sqlalchemy.ext.automap.measurements object at 0x10a29c278>, <sqlalchemy.ext.automap.measurements object at 0x10a29c4e0>, <sqlalchemy.ext.automap.measurements object at 0x10a29c240>, <sqlalchemy.ext.automap.measurements object at 0x10a29cfd0>, <sqlalchemy.ext.automap.measurements object at 0x10a29c080>, <sqlalchemy.ext.automap.measurements object at 0x10a29c1d0>, <sqlalchemy.ext.automap.measurements object at 0x10a29c470>, <sqlalchemy.ext.automap.measurements object at 0x10a29c630>, <sqlalchemy.ext.automap.measurements object at 0x10a29ce80>, <sqlalchemy.ext.automap.measurements object at 0x10a29c710>, <sqlalchemy.ext.automap.measurements object at 0x10a29c160>, <sqlalchemy.ext.automap.measurements object at 0x10a29c908>, <sqlalchemy.ext.automap.measurements object at 0x10a29c0f0>, <sqlalchemy.ext.automap.measurements object at 0x10a29ccf8>, <sqlalchemy.ext.automap.measurements object at 0x10a28bf60>, <sqlalchemy.ext.automap.measurements object at 0x10a28bda0>, <sqlalchemy.ext.automap.measurements object at 0x10a28bef0>, <sqlalchemy.ext.automap.measurements object at 0x10a28bc18>, <sqlalchemy.ext.automap.measurements object at 0x10827da90>, <sqlalchemy.ext.automap.measurements object at 0x10827de10>, <sqlalchemy.ext.automap.measurements object at 0x10827d358>, <sqlalchemy.ext.automap.measurements object at 0x10827d240>, <sqlalchemy.ext.automap.measurements object at 0x10827d0b8>, <sqlalchemy.ext.automap.measurements object at 0x10827d710>, <sqlalchemy.ext.automap.measurements object at 0x10827dda0>, <sqlalchemy.ext.automap.measurements object at 0x10827d4e0>, <sqlalchemy.ext.automap.measurements object at 0x108295400>, <sqlalchemy.ext.automap.measurements object at 0x108295b00>, <sqlalchemy.ext.automap.measurements object at 0x108295c18>, <sqlalchemy.ext.automap.measurements object at 0x108295e48>, <sqlalchemy.ext.automap.measurements object at 0x10a3e6ac8>, <sqlalchemy.ext.automap.measurements object at 0x10a3e6c88>, <sqlalchemy.ext.automap.measurements object at 0x10a3e6160>, <sqlalchemy.ext.automap.measurements object at 0x10a3e6358>, <sqlalchemy.ext.automap.measurements object at 0x10a3e60b8>, <sqlalchemy.ext.automap.measurements object at 0x10a3e65f8>, <sqlalchemy.ext.automap.measurements object at 0x10a3e6898>, <sqlalchemy.ext.automap.measurements object at 0x10a3e6748>, <sqlalchemy.ext.automap.measurements object at 0x10a3e6048>, <sqlalchemy.ext.automap.measurements object at 0x10a3e60f0>, <sqlalchemy.ext.automap.measurements object at 0x10a3e6080>, <sqlalchemy.ext.automap.measurements object at 0x10a3e6240>, <sqlalchemy.ext.automap.measurements object at 0x10a3e62e8>, <sqlalchemy.ext.automap.measurements object at 0x10a3e6278>, <sqlalchemy.ext.automap.measurements object at 0x10a3e6438>, <sqlalchemy.ext.automap.measurements object at 0x10a3e64e0>, <sqlalchemy.ext.automap.measurements object at 0x10a3e6470>, <sqlalchemy.ext.automap.measurements object at 0x10a3e6630>, <sqlalchemy.ext.automap.measurements object at 0x10a3e66d8>, <sqlalchemy.ext.automap.measurements object at 0x10a3e6668>, <sqlalchemy.ext.automap.measurements object at 0x10a3e6828>, <sqlalchemy.ext.automap.measurements object at 0x10a3e68d0>, <sqlalchemy.ext.automap.measurements object at 0x10a3e6860>, <sqlalchemy.ext.automap.measurements object at 0x10a3e6a20>, <sqlalchemy.ext.automap.measurements object at 0x10a3e6a58>, <sqlalchemy.ext.automap.measurements object at 0x10a3e6c18>, <sqlalchemy.ext.automap.measurements object at 0x10a3e6cc0>, <sqlalchemy.ext.automap.measurements object at 0x10a3e6e10>, <sqlalchemy.ext.automap.measurements object at 0x10a3e6eb8>, <sqlalchemy.ext.automap.measurements object at 0x10a3e6e48>, <sqlalchemy.ext.automap.measurements object at 0x10a3e6f60>, <sqlalchemy.ext.automap.measurements object at 0x10a3ef7f0>, <sqlalchemy.ext.automap.measurements object at 0x10a3efd30>, <sqlalchemy.ext.automap.measurements object at 0x10a3ef358>, <sqlalchemy.ext.automap.measurements object at 0x10a3ef080>, <sqlalchemy.ext.automap.measurements object at 0x10a3ef128>, <sqlalchemy.ext.automap.measurements object at 0x10a3ef0f0>, <sqlalchemy.ext.automap.measurements object at 0x10a3ef278>, <sqlalchemy.ext.automap.measurements object at 0x10a3ef320>, <sqlalchemy.ext.automap.measurements object at 0x10a3ef2e8>, <sqlalchemy.ext.automap.measurements object at 0x10a3ef470>, <sqlalchemy.ext.automap.measurements object at 0x10a3ef518>, <sqlalchemy.ext.automap.measurements object at 0x10a3ef4e0>, <sqlalchemy.ext.automap.measurements object at 0x10a3ef668>, <sqlalchemy.ext.automap.measurements object at 0x10a3ef710>, <sqlalchemy.ext.automap.measurements object at 0x10a3ef6d8>, <sqlalchemy.ext.automap.measurements object at 0x10a3ef860>, <sqlalchemy.ext.automap.measurements object at 0x10a3ef908>, <sqlalchemy.ext.automap.measurements object at 0x10a3ef8d0>, <sqlalchemy.ext.automap.measurements object at 0x10a3efa58>, <sqlalchemy.ext.automap.measurements object at 0x10a3efb00>, <sqlalchemy.ext.automap.measurements object at 0x10a3efac8>, <sqlalchemy.ext.automap.measurements object at 0x10a3efc50>, <sqlalchemy.ext.automap.measurements object at 0x10a3efcf8>, <sqlalchemy.ext.automap.measurements object at 0x10a3efcc0>, <sqlalchemy.ext.automap.measurements object at 0x10a3efe48>, <sqlalchemy.ext.automap.measurements object at 0x10a3efef0>, <sqlalchemy.ext.automap.measurements object at 0x10a3efeb8>, <sqlalchemy.ext.automap.measurements object at 0x108170b70>, <sqlalchemy.ext.automap.measurements object at 0x1081702e8>, <sqlalchemy.ext.automap.measurements object at 0x1081700b8>, <sqlalchemy.ext.automap.measurements object at 0x1081706d8>, <sqlalchemy.ext.automap.measurements object at 0x1081700f0>, <sqlalchemy.ext.automap.measurements object at 0x1081702b0>, <sqlalchemy.ext.automap.measurements object at 0x108170f98>, <sqlalchemy.ext.automap.measurements object at 0x108170048>, <sqlalchemy.ext.automap.measurements object at 0x1081704e0>, <sqlalchemy.ext.automap.measurements object at 0x108170c88>, <sqlalchemy.ext.automap.measurements object at 0x108170278>, <sqlalchemy.ext.automap.measurements object at 0x108170ac8>, <sqlalchemy.ext.automap.measurements object at 0x108170320>, <sqlalchemy.ext.automap.measurements object at 0x108170208>, <sqlalchemy.ext.automap.measurements object at 0x108170160>, <sqlalchemy.ext.automap.measurements object at 0x108170390>, <sqlalchemy.ext.automap.measurements object at 0x108170978>, <sqlalchemy.ext.automap.measurements object at 0x1081707f0>, <sqlalchemy.ext.automap.measurements object at 0x1081703c8>, <sqlalchemy.ext.automap.measurements object at 0x108170438>, <sqlalchemy.ext.automap.measurements object at 0x1081704a8>, <sqlalchemy.ext.automap.measurements object at 0x108170dd8>, <sqlalchemy.ext.automap.measurements object at 0x108170f60>, <sqlalchemy.ext.automap.measurements object at 0x108170cf8>, <sqlalchemy.ext.automap.measurements object at 0x108170860>, <sqlalchemy.ext.automap.measurements object at 0x108170550>, <sqlalchemy.ext.automap.measurements object at 0x108141860>, <sqlalchemy.ext.automap.measurements object at 0x108141cc0>, <sqlalchemy.ext.automap.measurements object at 0x108141d30>, <sqlalchemy.ext.automap.measurements object at 0x108141a20>, <sqlalchemy.ext.automap.measurements object at 0x1081410b8>, <sqlalchemy.ext.automap.measurements object at 0x1081419e8>, <sqlalchemy.ext.automap.measurements object at 0x108141c18>, <sqlalchemy.ext.automap.measurements object at 0x108141a90>, <sqlalchemy.ext.automap.measurements object at 0x1081416a0>, <sqlalchemy.ext.automap.measurements object at 0x109ad2978>, <sqlalchemy.ext.automap.measurements object at 0x109ad2860>, <sqlalchemy.ext.automap.measurements object at 0x109ad2b00>, <sqlalchemy.ext.automap.measurements object at 0x109ad2908>, <sqlalchemy.ext.automap.measurements object at 0x109ad2e48>, <sqlalchemy.ext.automap.measurements object at 0x109ad2f98>, <sqlalchemy.ext.automap.measurements object at 0x109ad2048>, <sqlalchemy.ext.automap.measurements object at 0x109ad20f0>, <sqlalchemy.ext.automap.measurements object at 0x109ad2160>, <sqlalchemy.ext.automap.measurements object at 0x109ad2128>, <sqlalchemy.ext.automap.measurements object at 0x109ad2240>, <sqlalchemy.ext.automap.measurements object at 0x109ad22b0>, <sqlalchemy.ext.automap.measurements object at 0x109ad2278>, <sqlalchemy.ext.automap.measurements object at 0x109ad2390>, <sqlalchemy.ext.automap.measurements object at 0x109ad2400>, <sqlalchemy.ext.automap.measurements object at 0x109ad23c8>, <sqlalchemy.ext.automap.measurements object at 0x109ad24e0>, <sqlalchemy.ext.automap.measurements object at 0x109ad2550>, <sqlalchemy.ext.automap.measurements object at 0x109ad2518>, <sqlalchemy.ext.automap.measurements object at 0x109ad2630>, <sqlalchemy.ext.automap.measurements object at 0x109ad26a0>, <sqlalchemy.ext.automap.measurements object at 0x109ad2748>, <sqlalchemy.ext.automap.measurements object at 0x109ad27f0>, <sqlalchemy.ext.automap.measurements object at 0x109ad2898>, <sqlalchemy.ext.automap.measurements object at 0x109ad2940>, <sqlalchemy.ext.automap.measurements object at 0x109ad2a90>, <sqlalchemy.ext.automap.measurements object at 0x109ad2b38>, <sqlalchemy.ext.automap.measurements object at 0x109ad2be0>, <sqlalchemy.ext.automap.measurements object at 0x109ad2c88>, <sqlalchemy.ext.automap.measurements object at 0x109ad2d30>, <sqlalchemy.ext.automap.measurements object at 0x109ad2dd8>, <sqlalchemy.ext.automap.measurements object at 0x109ad2e80>, <sqlalchemy.ext.automap.measurements object at 0x109ad2f28>, <sqlalchemy.ext.automap.measurements object at 0x109ad2fd0>, <sqlalchemy.ext.automap.measurements object at 0x10998b9e8>, <sqlalchemy.ext.automap.measurements object at 0x10998b160>, <sqlalchemy.ext.automap.measurements object at 0x10998b0b8>, <sqlalchemy.ext.automap.measurements object at 0x10998b358>, <sqlalchemy.ext.automap.measurements object at 0x10998b5f8>, <sqlalchemy.ext.automap.measurements object at 0x10998bb00>, <sqlalchemy.ext.automap.measurements object at 0x10998b3c8>, <sqlalchemy.ext.automap.measurements object at 0x10998b7f0>, <sqlalchemy.ext.automap.measurements object at 0x10998bbe0>, <sqlalchemy.ext.automap.measurements object at 0x10998b630>, <sqlalchemy.ext.automap.measurements object at 0x10998b588>, <sqlalchemy.ext.automap.measurements object at 0x10998b470>, <sqlalchemy.ext.automap.measurements object at 0x10998bd68>, <sqlalchemy.ext.automap.measurements object at 0x10998b208>, <sqlalchemy.ext.automap.measurements object at 0x10998b908>, <sqlalchemy.ext.automap.measurements object at 0x10998bf98>, <sqlalchemy.ext.automap.measurements object at 0x10998b240>, <sqlalchemy.ext.automap.measurements object at 0x10998b550>, <sqlalchemy.ext.automap.measurements object at 0x10998b438>, <sqlalchemy.ext.automap.measurements object at 0x109ad9128>, <sqlalchemy.ext.automap.measurements object at 0x109ad91d0>, <sqlalchemy.ext.automap.measurements object at 0x109ad9278>, <sqlalchemy.ext.automap.measurements object at 0x109ad93c8>, <sqlalchemy.ext.automap.measurements object at 0x109ad9668>, <sqlalchemy.ext.automap.measurements object at 0x109ad97b8>, <sqlalchemy.ext.automap.measurements object at 0x109ad9908>, <sqlalchemy.ext.automap.measurements object at 0x109ad9a58>, <sqlalchemy.ext.automap.measurements object at 0x109ad9ba8>, <sqlalchemy.ext.automap.measurements object at 0x109ad9cf8>, <sqlalchemy.ext.automap.measurements object at 0x109ad9e48>, <sqlalchemy.ext.automap.measurements object at 0x109ad9f98>, <sqlalchemy.ext.automap.measurements object at 0x109ad90b8>, <sqlalchemy.ext.automap.measurements object at 0x109ad9160>, <sqlalchemy.ext.automap.measurements object at 0x109ad9208>, <sqlalchemy.ext.automap.measurements object at 0x109ad92b0>, <sqlalchemy.ext.automap.measurements object at 0x109ad9358>, <sqlalchemy.ext.automap.measurements object at 0x109ad9400>, <sqlalchemy.ext.automap.measurements object at 0x109ad94a8>, <sqlalchemy.ext.automap.measurements object at 0x109ad9550>, <sqlalchemy.ext.automap.measurements object at 0x109ad95f8>, <sqlalchemy.ext.automap.measurements object at 0x109ad96a0>, <sqlalchemy.ext.automap.measurements object at 0x109ad9748>, <sqlalchemy.ext.automap.measurements object at 0x109ad97f0>, <sqlalchemy.ext.automap.measurements object at 0x109ad9898>, <sqlalchemy.ext.automap.measurements object at 0x109ad9940>, <sqlalchemy.ext.automap.measurements object at 0x109ad99e8>, <sqlalchemy.ext.automap.measurements object at 0x109ad9a90>, <sqlalchemy.ext.automap.measurements object at 0x109ad9b38>, <sqlalchemy.ext.automap.measurements object at 0x109ad9be0>, <sqlalchemy.ext.automap.measurements object at 0x109ad9c88>, <sqlalchemy.ext.automap.measurements object at 0x109ad9d30>, <sqlalchemy.ext.automap.measurements object at 0x109ad9dd8>, <sqlalchemy.ext.automap.measurements object at 0x109ad9e80>, <sqlalchemy.ext.automap.measurements object at 0x109ad9f28>, <sqlalchemy.ext.automap.measurements object at 0x109ad9fd0>, <sqlalchemy.ext.automap.measurements object at 0x1081cc358>, <sqlalchemy.ext.automap.measurements object at 0x1081ccfd0>, <sqlalchemy.ext.automap.measurements object at 0x1081ccb38>, <sqlalchemy.ext.automap.measurements object at 0x1081ccd30>, <sqlalchemy.ext.automap.measurements object at 0x1081ccc88>, <sqlalchemy.ext.automap.measurements object at 0x1081ccdd8>, <sqlalchemy.ext.automap.measurements object at 0x1081cc9e8>, <sqlalchemy.ext.automap.measurements object at 0x1081cca58>, <sqlalchemy.ext.automap.measurements object at 0x1081ccac8>, <sqlalchemy.ext.automap.measurements object at 0x1081cc6d8>, <sqlalchemy.ext.automap.measurements object at 0x1081cc710>, <sqlalchemy.ext.automap.measurements object at 0x1081cc5f8>, <sqlalchemy.ext.automap.measurements object at 0x1081cc438>, <sqlalchemy.ext.automap.measurements object at 0x1081cc3c8>, <sqlalchemy.ext.automap.measurements object at 0x1081cc400>, <sqlalchemy.ext.automap.measurements object at 0x1081ccf98>, <sqlalchemy.ext.automap.measurements object at 0x1081ccef0>, <sqlalchemy.ext.automap.measurements object at 0x1081ccf60>, <sqlalchemy.ext.automap.measurements object at 0x1081cccc0>, <sqlalchemy.ext.automap.measurements object at 0x1081ccb00>, <sqlalchemy.ext.automap.measurements object at 0x1081ccbe0>, <sqlalchemy.ext.automap.measurements object at 0x1081cca20>, <sqlalchemy.ext.automap.measurements object at 0x1081cc8d0>, <sqlalchemy.ext.automap.measurements object at 0x1081cc908>, <sqlalchemy.ext.automap.measurements object at 0x1081cc588>, <sqlalchemy.ext.automap.measurements object at 0x1081cc550>, <sqlalchemy.ext.automap.measurements object at 0x1081cc7b8>, <sqlalchemy.ext.automap.measurements object at 0x1081cc0f0>, <sqlalchemy.ext.automap.measurements object at 0x1081cc208>, <sqlalchemy.ext.automap.measurements object at 0x1081cc240>, <sqlalchemy.ext.automap.measurements object at 0x1081cc7f0>, <sqlalchemy.ext.automap.measurements object at 0x1081cc2b0>, <sqlalchemy.ext.automap.measurements object at 0x1081cc1d0>, <sqlalchemy.ext.automap.measurements object at 0x1081cc048>, <sqlalchemy.ext.automap.measurements object at 0x1081cc898>, <sqlalchemy.ext.automap.measurements object at 0x10a244fd0>, <sqlalchemy.ext.automap.measurements object at 0x10a244be0>, <sqlalchemy.ext.automap.measurements object at 0x10a244c88>, <sqlalchemy.ext.automap.measurements object at 0x10a244128>, <sqlalchemy.ext.automap.measurements object at 0x10a244198>, <sqlalchemy.ext.automap.measurements object at 0x10a2440b8>, <sqlalchemy.ext.automap.measurements object at 0x10a244278>, <sqlalchemy.ext.automap.measurements object at 0x10a2442e8>, <sqlalchemy.ext.automap.measurements object at 0x10a244208>, <sqlalchemy.ext.automap.measurements object at 0x10a2443c8>, <sqlalchemy.ext.automap.measurements object at 0x10a244438>, <sqlalchemy.ext.automap.measurements object at 0x10a244358>, <sqlalchemy.ext.automap.measurements object at 0x10a244518>, <sqlalchemy.ext.automap.measurements object at 0x10a244588>, <sqlalchemy.ext.automap.measurements object at 0x10a2444a8>, <sqlalchemy.ext.automap.measurements object at 0x10a244668>, <sqlalchemy.ext.automap.measurements object at 0x10a2446d8>, <sqlalchemy.ext.automap.measurements object at 0x10a2445f8>, <sqlalchemy.ext.automap.measurements object at 0x10a2447b8>, <sqlalchemy.ext.automap.measurements object at 0x10a244828>, <sqlalchemy.ext.automap.measurements object at 0x10a244748>, <sqlalchemy.ext.automap.measurements object at 0x10a244908>, <sqlalchemy.ext.automap.measurements object at 0x10a244978>, <sqlalchemy.ext.automap.measurements object at 0x10a244898>, <sqlalchemy.ext.automap.measurements object at 0x10a244a58>, <sqlalchemy.ext.automap.measurements object at 0x10a244ac8>, <sqlalchemy.ext.automap.measurements object at 0x10a2449e8>, <sqlalchemy.ext.automap.measurements object at 0x10a244ba8>, <sqlalchemy.ext.automap.measurements object at 0x10a244c18>, <sqlalchemy.ext.automap.measurements object at 0x10a244b38>, <sqlalchemy.ext.automap.measurements object at 0x10a244e10>, <sqlalchemy.ext.automap.measurements object at 0x10a244f60>, <sqlalchemy.ext.automap.measurements object at 0x10192ed30>, <sqlalchemy.ext.automap.measurements object at 0x108175a20>, <sqlalchemy.ext.automap.measurements object at 0x108175c18>, <sqlalchemy.ext.automap.measurements object at 0x1081759e8>, <sqlalchemy.ext.automap.measurements object at 0x108175438>, <sqlalchemy.ext.automap.measurements object at 0x108175a58>, <sqlalchemy.ext.automap.measurements object at 0x108175be0>, <sqlalchemy.ext.automap.measurements object at 0x1081758d0>, <sqlalchemy.ext.automap.measurements object at 0x1082ce588>, <sqlalchemy.ext.automap.measurements object at 0x1082ce7b8>, <sqlalchemy.ext.automap.measurements object at 0x1082cef60>, <sqlalchemy.ext.automap.measurements object at 0x1082cee10>, <sqlalchemy.ext.automap.measurements object at 0x1082cebe0>, <sqlalchemy.ext.automap.measurements object at 0x1082caeb8>, <sqlalchemy.ext.automap.measurements object at 0x1082ca8d0>, <sqlalchemy.ext.automap.measurements object at 0x1082caba8>, <sqlalchemy.ext.automap.measurements object at 0x1082d7358>, <sqlalchemy.ext.automap.measurements object at 0x1082d7ef0>, <sqlalchemy.ext.automap.measurements object at 0x109da0cc0>, <sqlalchemy.ext.automap.measurements object at 0x109da0cf8>, <sqlalchemy.ext.automap.measurements object at 0x109da0a58>, <sqlalchemy.ext.automap.measurements object at 0x109da0f98>, <sqlalchemy.ext.automap.measurements object at 0x109da0a90>, <sqlalchemy.ext.automap.measurements object at 0x109da0978>, <sqlalchemy.ext.automap.measurements object at 0x109da0710>, <sqlalchemy.ext.automap.measurements object at 0x109da0ba8>, <sqlalchemy.ext.automap.measurements object at 0x109da0b00>, <sqlalchemy.ext.automap.measurements object at 0x109da07b8>, <sqlalchemy.ext.automap.measurements object at 0x109da0e10>, <sqlalchemy.ext.automap.measurements object at 0x1082c4278>, <sqlalchemy.ext.automap.measurements object at 0x1082c47f0>, <sqlalchemy.ext.automap.measurements object at 0x1082c4ac8>, <sqlalchemy.ext.automap.measurements object at 0x1082c46a0>, <sqlalchemy.ext.automap.measurements object at 0x1082c4160>, <sqlalchemy.ext.automap.measurements object at 0x1082c47b8>, <sqlalchemy.ext.automap.measurements object at 0x1082c4240>, <sqlalchemy.ext.automap.measurements object at 0x1082c44a8>, <sqlalchemy.ext.automap.measurements object at 0x1082c4400>, <sqlalchemy.ext.automap.measurements object at 0x1082c4668>, <sqlalchemy.ext.automap.measurements object at 0x1082c4828>, <sqlalchemy.ext.automap.measurements object at 0x1082c4940>, <sqlalchemy.ext.automap.measurements object at 0x103f2dcf8>, <sqlalchemy.ext.automap.measurements object at 0x103f2d9b0>, <sqlalchemy.ext.automap.measurements object at 0x1082ddd30>, <sqlalchemy.ext.automap.measurements object at 0x1082dd550>, <sqlalchemy.ext.automap.measurements object at 0x1082dd780>, <sqlalchemy.ext.automap.measurements object at 0x1082dd048>, <sqlalchemy.ext.automap.measurements object at 0x1082dd5c0>, <sqlalchemy.ext.automap.measurements object at 0x1082dda20>, <sqlalchemy.ext.automap.measurements object at 0x1082dd6a0>, <sqlalchemy.ext.automap.measurements object at 0x1082ddac8>, <sqlalchemy.ext.automap.measurements object at 0x1082ddbe0>, <sqlalchemy.ext.automap.measurements object at 0x1082dd908>, <sqlalchemy.ext.automap.measurements object at 0x1082ddda0>, <sqlalchemy.ext.automap.measurements object at 0x1082ddd68>, <sqlalchemy.ext.automap.measurements object at 0x1082ddb70>, <sqlalchemy.ext.automap.measurements object at 0x1082dda90>, <sqlalchemy.ext.automap.measurements object at 0x1082ddf28>, <sqlalchemy.ext.automap.measurements object at 0x1082dd748>, <sqlalchemy.ext.automap.measurements object at 0x1082ddcf8>, <sqlalchemy.ext.automap.measurements object at 0x1082bd320>, <sqlalchemy.ext.automap.measurements object at 0x1082bddd8>, <sqlalchemy.ext.automap.measurements object at 0x1082bd908>, <sqlalchemy.ext.automap.measurements object at 0x1082bde10>, <sqlalchemy.ext.automap.measurements object at 0x1082bdfd0>, <sqlalchemy.ext.automap.measurements object at 0x1082bda20>, <sqlalchemy.ext.automap.measurements object at 0x1082bd7f0>, <sqlalchemy.ext.automap.measurements object at 0x1082bd358>, <sqlalchemy.ext.automap.measurements object at 0x1082bdda0>, <sqlalchemy.ext.automap.measurements object at 0x1082bd080>, <sqlalchemy.ext.automap.measurements object at 0x1082bdbe0>, <sqlalchemy.ext.automap.measurements object at 0x1082bdb70>, <sqlalchemy.ext.automap.measurements object at 0x1082bdba8>, <sqlalchemy.ext.automap.measurements object at 0x1082bd6d8>, <sqlalchemy.ext.automap.measurements object at 0x1082bd6a0>, <sqlalchemy.ext.automap.measurements object at 0x1082bd710>, <sqlalchemy.ext.automap.measurements object at 0x1082bd518>, <sqlalchemy.ext.automap.measurements object at 0x1082bd4e0>, <sqlalchemy.ext.automap.measurements object at 0x1082bdcf8>, <sqlalchemy.ext.automap.measurements object at 0x1082bd748>, <sqlalchemy.ext.automap.measurements object at 0x1082bd7b8>, <sqlalchemy.ext.automap.measurements object at 0x1082bd588>, <sqlalchemy.ext.automap.measurements object at 0x1082bd400>, <sqlalchemy.ext.automap.measurements object at 0x1082bd2e8>, <sqlalchemy.ext.automap.measurements object at 0x1082bdf28>, <sqlalchemy.ext.automap.measurements object at 0x10a305278>, <sqlalchemy.ext.automap.measurements object at 0x10a305e80>, <sqlalchemy.ext.automap.measurements object at 0x10a305d30>, <sqlalchemy.ext.automap.measurements object at 0x10a305dd8>, <sqlalchemy.ext.automap.measurements object at 0x10a305a90>, <sqlalchemy.ext.automap.measurements object at 0x10a305940>, <sqlalchemy.ext.automap.measurements object at 0x10a3059e8>, <sqlalchemy.ext.automap.measurements object at 0x10a3056a0>, <sqlalchemy.ext.automap.measurements object at 0x10a305550>, <sqlalchemy.ext.automap.measurements object at 0x10a3055f8>, <sqlalchemy.ext.automap.measurements object at 0x10a3052b0>, <sqlalchemy.ext.automap.measurements object at 0x10a305160>, <sqlalchemy.ext.automap.measurements object at 0x10a305208>, <sqlalchemy.ext.automap.measurements object at 0x10a305c18>, <sqlalchemy.ext.automap.measurements object at 0x10a305b70>, <sqlalchemy.ext.automap.measurements object at 0x10a305470>, <sqlalchemy.ext.automap.measurements object at 0x10a3059b0>, <sqlalchemy.ext.automap.measurements object at 0x10a3057b8>, <sqlalchemy.ext.automap.measurements object at 0x10a305908>, <sqlalchemy.ext.automap.measurements object at 0x10a305978>, <sqlalchemy.ext.automap.measurements object at 0x10a305668>, <sqlalchemy.ext.automap.measurements object at 0x10a305780>, <sqlalchemy.ext.automap.measurements object at 0x10a3056d8>, <sqlalchemy.ext.automap.measurements object at 0x10a3054e0>, <sqlalchemy.ext.automap.measurements object at 0x10a305710>, <sqlalchemy.ext.automap.measurements object at 0x10a305ba8>, <sqlalchemy.ext.automap.measurements object at 0x10a305198>, <sqlalchemy.ext.automap.measurements object at 0x10a3052e8>, <sqlalchemy.ext.automap.measurements object at 0x10a305c50>, <sqlalchemy.ext.automap.measurements object at 0x10a30dfd0>, <sqlalchemy.ext.automap.measurements object at 0x10a30ddd8>, <sqlalchemy.ext.automap.measurements object at 0x10a30dc88>, <sqlalchemy.ext.automap.measurements object at 0x10a30dd30>, <sqlalchemy.ext.automap.measurements object at 0x10a30d9e8>, <sqlalchemy.ext.automap.measurements object at 0x10a30d898>, <sqlalchemy.ext.automap.measurements object at 0x1083195f8>, <sqlalchemy.ext.automap.measurements object at 0x108319278>, <sqlalchemy.ext.automap.measurements object at 0x108319128>, <sqlalchemy.ext.automap.measurements object at 0x108319ba8>, <sqlalchemy.ext.automap.measurements object at 0x108319048>, <sqlalchemy.ext.automap.measurements object at 0x108319860>, <sqlalchemy.ext.automap.measurements object at 0x1083192b0>, <sqlalchemy.ext.automap.measurements object at 0x1082d4b70>, <sqlalchemy.ext.automap.measurements object at 0x1082d4e48>, <sqlalchemy.ext.automap.measurements object at 0x1082d4748>, <sqlalchemy.ext.automap.measurements object at 0x1082d4908>, <sqlalchemy.ext.automap.measurements object at 0x1082d4128>, <sqlalchemy.ext.automap.measurements object at 0x1082d4a58>, <sqlalchemy.ext.automap.measurements object at 0x1082d44e0>, <sqlalchemy.ext.automap.measurements object at 0x1082d4ac8>, <sqlalchemy.ext.automap.measurements object at 0x1082d4828>, <sqlalchemy.ext.automap.measurements object at 0x1082d4c18>, <sqlalchemy.ext.automap.measurements object at 0x1082d4198>, <sqlalchemy.ext.automap.measurements object at 0x1082d40f0>, <sqlalchemy.ext.automap.measurements object at 0x1082d4630>, <sqlalchemy.ext.automap.measurements object at 0x1082d4a90>, <sqlalchemy.ext.automap.measurements object at 0x1082d47b8>, <sqlalchemy.ext.automap.measurements object at 0x1082d4d30>, <sqlalchemy.ext.automap.measurements object at 0x1081be0f0>, <sqlalchemy.ext.automap.measurements object at 0x1081be748>, <sqlalchemy.ext.automap.measurements object at 0x1081be400>, <sqlalchemy.ext.automap.measurements object at 0x1081bec88>, <sqlalchemy.ext.automap.measurements object at 0x1081be9b0>, <sqlalchemy.ext.automap.measurements object at 0x1081beb00>, <sqlalchemy.ext.automap.measurements object at 0x1081bec50>, <sqlalchemy.ext.automap.measurements object at 0x1081be940>, <sqlalchemy.ext.automap.measurements object at 0x1081be518>, <sqlalchemy.ext.automap.measurements object at 0x1081bef98>, <sqlalchemy.ext.automap.measurements object at 0x1081bee80>, <sqlalchemy.ext.automap.measurements object at 0x1081be6d8>, <sqlalchemy.ext.automap.measurements object at 0x1081be8d0>, <sqlalchemy.ext.automap.measurements object at 0x1081befd0>, <sqlalchemy.ext.automap.measurements object at 0x1081bef28>, <sqlalchemy.ext.automap.measurements object at 0x1081be278>, <sqlalchemy.ext.automap.measurements object at 0x1081bed30>, <sqlalchemy.ext.automap.measurements object at 0x1081be5c0>, <sqlalchemy.ext.automap.measurements object at 0x1081be4e0>, <sqlalchemy.ext.automap.measurements object at 0x1081be240>, <sqlalchemy.ext.automap.measurements object at 0x1081be198>, <sqlalchemy.ext.automap.measurements object at 0x1081be668>, <sqlalchemy.ext.automap.measurements object at 0x1081be3c8>, <sqlalchemy.ext.automap.measurements object at 0x1081be080>, <sqlalchemy.ext.automap.measurements object at 0x108279eb8>, <sqlalchemy.ext.automap.measurements object at 0x108279470>, <sqlalchemy.ext.automap.measurements object at 0x108279c18>, <sqlalchemy.ext.automap.measurements object at 0x108279b00>, <sqlalchemy.ext.automap.measurements object at 0x108279d30>, <sqlalchemy.ext.automap.measurements object at 0x108279f98>, <sqlalchemy.ext.automap.measurements object at 0x1082792b0>, <sqlalchemy.ext.automap.measurements object at 0x1082794a8>, <sqlalchemy.ext.automap.measurements object at 0x108279358>, <sqlalchemy.ext.automap.measurements object at 0x108279128>, <sqlalchemy.ext.automap.measurements object at 0x108279048>, <sqlalchemy.ext.automap.measurements object at 0x108279da0>, <sqlalchemy.ext.automap.measurements object at 0x108279748>, <sqlalchemy.ext.automap.measurements object at 0x108279710>, <sqlalchemy.ext.automap.measurements object at 0x108279f28>, <sqlalchemy.ext.automap.measurements object at 0x1082793c8>, <sqlalchemy.ext.automap.measurements object at 0x1082798d0>, <sqlalchemy.ext.automap.measurements object at 0x108279a58>, <sqlalchemy.ext.automap.measurements object at 0x108279978>, <sqlalchemy.ext.automap.measurements object at 0x1082799e8>, <sqlalchemy.ext.automap.measurements object at 0x1082796a0>, <sqlalchemy.ext.automap.measurements object at 0x108279550>, <sqlalchemy.ext.automap.measurements object at 0x108279630>, <sqlalchemy.ext.automap.measurements object at 0x108279be0>, <sqlalchemy.ext.automap.measurements object at 0x108279860>, <sqlalchemy.ext.automap.measurements object at 0x109723f98>, <sqlalchemy.ext.automap.measurements object at 0x109723e48>, <sqlalchemy.ext.automap.measurements object at 0x109723b70>, <sqlalchemy.ext.automap.measurements object at 0x109723908>, <sqlalchemy.ext.automap.measurements object at 0x109723cc0>, <sqlalchemy.ext.automap.measurements object at 0x1097235c0>, <sqlalchemy.ext.automap.measurements object at 0x109723470>, <sqlalchemy.ext.automap.measurements object at 0x109723128>, <sqlalchemy.ext.automap.measurements object at 0x109723860>, <sqlalchemy.ext.automap.measurements object at 0x10971b2e8>, <sqlalchemy.ext.automap.measurements object at 0x10971b860>, <sqlalchemy.ext.automap.measurements object at 0x10971b4e0>, <sqlalchemy.ext.automap.measurements object at 0x10971b518>, <sqlalchemy.ext.automap.measurements object at 0x10971b588>, <sqlalchemy.ext.automap.measurements object at 0x10971b630>, <sqlalchemy.ext.automap.measurements object at 0x10971b278>, <sqlalchemy.ext.automap.measurements object at 0x10971b5c0>, <sqlalchemy.ext.automap.measurements object at 0x10971b780>, <sqlalchemy.ext.automap.measurements object at 0x10971b668>, <sqlalchemy.ext.automap.measurements object at 0x10971b8d0>, <sqlalchemy.ext.automap.measurements object at 0x10971b048>, <sqlalchemy.ext.automap.measurements object at 0x10971bcc0>, <sqlalchemy.ext.automap.measurements object at 0x10971b240>, <sqlalchemy.ext.automap.measurements object at 0x10971b7b8>, <sqlalchemy.ext.automap.measurements object at 0x10971b908>, <sqlalchemy.ext.automap.measurements object at 0x10971bb00>, <sqlalchemy.ext.automap.measurements object at 0x10971bd68>, <sqlalchemy.ext.automap.measurements object at 0x10971b978>, <sqlalchemy.ext.automap.measurements object at 0x10971be10>, <sqlalchemy.ext.automap.measurements object at 0x10971bb70>, <sqlalchemy.ext.automap.measurements object at 0x10971bc50>, <sqlalchemy.ext.automap.measurements object at 0x109741278>, <sqlalchemy.ext.automap.measurements object at 0x109741588>, <sqlalchemy.ext.automap.measurements object at 0x109741390>, <sqlalchemy.ext.automap.measurements object at 0x1097415c0>, <sqlalchemy.ext.automap.measurements object at 0x109741668>, <sqlalchemy.ext.automap.measurements object at 0x109741710>, <sqlalchemy.ext.automap.measurements object at 0x1097417b8>, <sqlalchemy.ext.automap.measurements object at 0x109741860>, <sqlalchemy.ext.automap.measurements object at 0x109741908>, <sqlalchemy.ext.automap.measurements object at 0x1097419b0>, <sqlalchemy.ext.automap.measurements object at 0x109741a58>, <sqlalchemy.ext.automap.measurements object at 0x109741b00>, <sqlalchemy.ext.automap.measurements object at 0x109741ba8>, <sqlalchemy.ext.automap.measurements object at 0x109741c50>, <sqlalchemy.ext.automap.measurements object at 0x109741cf8>, <sqlalchemy.ext.automap.measurements object at 0x109741da0>, <sqlalchemy.ext.automap.measurements object at 0x109741e48>, <sqlalchemy.ext.automap.measurements object at 0x109741ef0>, <sqlalchemy.ext.automap.measurements object at 0x109741f98>, <sqlalchemy.ext.automap.measurements object at 0x10974a080>, <sqlalchemy.ext.automap.measurements object at 0x10974a128>, <sqlalchemy.ext.automap.measurements object at 0x10974a1d0>, <sqlalchemy.ext.automap.measurements object at 0x10974a278>, <sqlalchemy.ext.automap.measurements object at 0x10974a320>, <sqlalchemy.ext.automap.measurements object at 0x10974a3c8>, <sqlalchemy.ext.automap.measurements object at 0x10974a470>, <sqlalchemy.ext.automap.measurements object at 0x10974a518>, <sqlalchemy.ext.automap.measurements object at 0x10974a5c0>, <sqlalchemy.ext.automap.measurements object at 0x10974a668>, <sqlalchemy.ext.automap.measurements object at 0x10974a710>, <sqlalchemy.ext.automap.measurements object at 0x10974a7b8>, <sqlalchemy.ext.automap.measurements object at 0x10826c6d8>, <sqlalchemy.ext.automap.measurements object at 0x10826c668>, <sqlalchemy.ext.automap.measurements object at 0x10826c518>, <sqlalchemy.ext.automap.measurements object at 0x10826c278>, <sqlalchemy.ext.automap.measurements object at 0x10826c4a8>, <sqlalchemy.ext.automap.measurements object at 0x10826c208>, <sqlalchemy.ext.automap.measurements object at 0x10826c400>, <sqlalchemy.ext.automap.measurements object at 0x10826c128>, <sqlalchemy.ext.automap.measurements object at 0x10826c5f8>, <sqlalchemy.ext.automap.measurements object at 0x10826c550>, <sqlalchemy.ext.automap.measurements object at 0x10826c2e8>, <sqlalchemy.ext.automap.measurements object at 0x10826c438>, <sqlalchemy.ext.automap.measurements object at 0x10826c358>, <sqlalchemy.ext.automap.measurements object at 0x10826c160>, <sqlalchemy.ext.automap.measurements object at 0x10826c048>, <sqlalchemy.ext.automap.measurements object at 0x10826c080>]\n"
     ]
    }
   ],
   "source": [
    "#last_12 = session.query(Measurement).filter_by(func.strftime(\"%m/%d/%y\", Measurement.date) >= \"5/10/15\")\n",
    "#last_12 = session.query(Measurement).filter(func.strftime(\"%m/%d/%y\", Measurement.date) > \"5/10/15\")\n",
    "\n",
    "## WHY NOT WORKING?\n",
    "#tobs_high = session.query(Measurement).filter_by(tobs == 80).all()\n",
    "\n",
    "# id_print = session.query(Measurement).filter_by(id=5).count()\n",
    "# print(id_print)\n",
    "\n",
    "\n",
    "### WORKS\n",
    "# thing = session.query(Measurement).filter_by(tobs = 80).count()\n",
    "# print(thing)\n",
    "# stuff = session.query(Measurement).filter(Measurement.tobs > 80).count()\n",
    "# print(stuff)\n",
    "\n",
    "\n",
    "\n",
    "#update_one = session.query(Garbage).filter(Garbage.id == 1).first()\n",
    "\n",
    "\n",
    "these = session.query(Measurement).filter(Measurement.tobs > 80).all()\n",
    "print(these)\n",
    "\n",
    "## NOT YET\n",
    "# target = session.query(Measurement.date).filter(func.strftime(\"%m/%d/%y\", Measurement.date) > \"5/10/15\").count()\n",
    "# print(target)\n",
    "\n",
    "# attacks = session.query(Measurement) \n",
    "# for x in attacks:\n",
    "#     print(x.tobs)\n",
    "\n",
    "#last_12 = session.query(Measurement).filter(func.strftime(\"%m/%d/%y\", Measurement.date) > \"5/10/15\")\n",
    "\n",
    "\n",
    "#filter(func.strftime(\"%m\", Dow.date) == \"05\")\n",
    "#year_2017 = session.query(Sharks).filter_by(year=2017).count()\n",
    "# for item in tobs_high:\n",
    "#     print(item.tobs)\n",
    "### END SOLUTION"
   ]
  },
  {
   "cell_type": "code",
   "execution_count": 131,
   "metadata": {},
   "outputs": [
    {
     "name": "stdout",
     "output_type": "stream",
     "text": [
      "[]\n"
     ]
    }
   ],
   "source": [
    "# Retrieve the last 12 months of precipitation data.\n",
    "# Select only the date and prcp values.\n",
    "#1/1/10\n",
    "\n",
    "sel = [Measurement.date, \n",
    "       func.avg(Measurement.prcp)]\n",
    "\n",
    "precipitation_12_months = session.query(*sel).\\\n",
    "    filter(func.strftime(\"%m/%d/%y\", Measurement.date) >= \"5/10/15\").\\\n",
    "    group_by(Measurement.date).\\\n",
    "    order_by(Measurement.date).all()\n",
    "\n",
    "print(precipitation_12_months)"
   ]
  },
  {
   "cell_type": "code",
   "execution_count": null,
   "metadata": {
    "collapsed": true
   },
   "outputs": [],
   "source": [
    "#attacks = session.query(Sharks) \n",
    "# for attack in attacks:\n",
    "#     print(attack.location)"
   ]
  },
  {
   "cell_type": "code",
   "execution_count": 69,
   "metadata": {},
   "outputs": [],
   "source": [
    "# for x in precipitation_12_months:\n",
    "#     print(x.prcp)"
   ]
  },
  {
   "cell_type": "code",
   "execution_count": 126,
   "metadata": {},
   "outputs": [],
   "source": [
    "# if '2017-10-1' <= '2017-9-31':\n",
    "#     print (\"True\")"
   ]
  },
  {
   "cell_type": "code",
   "execution_count": null,
   "metadata": {
    "collapsed": true
   },
   "outputs": [],
   "source": []
  }
 ],
 "metadata": {
  "kernelspec": {
   "display_name": "Python 3",
   "language": "python",
   "name": "python3"
  },
  "language_info": {
   "codemirror_mode": {
    "name": "ipython",
    "version": 3
   },
   "file_extension": ".py",
   "mimetype": "text/x-python",
   "name": "python",
   "nbconvert_exporter": "python",
   "pygments_lexer": "ipython3",
   "version": "3.6.2"
  }
 },
 "nbformat": 4,
 "nbformat_minor": 2
}
