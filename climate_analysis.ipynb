{
 "cells": [
  {
   "cell_type": "code",
   "execution_count": 1,
   "metadata": {
    "collapsed": true
   },
   "outputs": [],
   "source": [
    "# My trip: end by 8/23/17 to be part of the dateset? 10 day trip....\n",
    "\n",
    "# Import Dependencies\n",
    "\n",
    "#import numpy as np\n",
    "import matplotlib.pyplot as plt\n",
    "import matplotlib.dates as mdates\n",
    "import pandas as pd\n",
    "#import os\n",
    "from pylab import *\n",
    "\n",
    "from datetime import date, time, datetime, timedelta\n",
    "from dateutil.relativedelta import relativedelta\n",
    "# from datetime import time\n",
    "# from datetime import datetime\n",
    "\n",
    "# Python SQL toolkit and Object Relational Mapper\n",
    "import sqlalchemy\n",
    "from sqlalchemy.ext.automap import automap_base\n",
    "from sqlalchemy.orm import Session\n",
    "from sqlalchemy import create_engine, inspect, func#, MetaData\n",
    "#from sqlalchemy.ext.declarative import declarative_base\n",
    "\n",
    "# Allow us to declare column types\n",
    "#from sqlalchemy import Column, Integer, String, Float\n",
    "\n",
    "# import pymysql\n",
    "# pymysql.install_as_MySQLdb()"
   ]
  },
  {
   "cell_type": "markdown",
   "metadata": {},
   "source": [
    "today = date.today()\n",
    "print(today)"
   ]
  },
  {
   "cell_type": "markdown",
   "metadata": {},
   "source": [
    "now = datetime.now()\n",
    "print(now.strftime('%m/%d/%y'))"
   ]
  },
  {
   "cell_type": "markdown",
   "metadata": {},
   "source": [
    "d = now - timedelta(years=1)\n",
    "print(d)"
   ]
  },
  {
   "cell_type": "markdown",
   "metadata": {},
   "source": [
    "\n",
    "\n",
    "new_date = (now + relativedelta(years=1)).date()\n",
    "print(new_date)"
   ]
  },
  {
   "cell_type": "markdown",
   "metadata": {},
   "source": [
    "type(new_date)"
   ]
  },
  {
   "cell_type": "markdown",
   "metadata": {},
   "source": [
    "print(new_date.strftime('%Y/%m/%d'))"
   ]
  },
  {
   "cell_type": "markdown",
   "metadata": {},
   "source": [
    "## Database Setup"
   ]
  },
  {
   "cell_type": "code",
   "execution_count": 2,
   "metadata": {
    "collapsed": true
   },
   "outputs": [],
   "source": [
    "# Create an engine to the SQLite database file called `hawaii.sqlite`\n",
    "engine = create_engine(\"sqlite:///hawaii.sqlite\")"
   ]
  },
  {
   "cell_type": "code",
   "execution_count": 3,
   "metadata": {},
   "outputs": [
    {
     "data": {
      "text/plain": [
       "['measurements', 'stations']"
      ]
     },
     "execution_count": 3,
     "metadata": {},
     "output_type": "execute_result"
    }
   ],
   "source": [
    "# Check for tables\n",
    "engine.table_names()"
   ]
  },
  {
   "cell_type": "code",
   "execution_count": 4,
   "metadata": {},
   "outputs": [
    {
     "data": {
      "text/plain": [
       "[(1, 'USC00519397', '2010-01-01', 0.08, 65),\n",
       " (2, 'USC00519397', '2010-01-02', 0.0, 63),\n",
       " (3, 'USC00519397', '2010-01-03', 0.0, 74),\n",
       " (4, 'USC00519397', '2010-01-04', 0.0, 76),\n",
       " (5, 'USC00519397', '2010-01-06', 0.0490204841713224, 73),\n",
       " (6, 'USC00519397', '2010-01-07', 0.06, 70),\n",
       " (7, 'USC00519397', '2010-01-08', 0.0, 64),\n",
       " (8, 'USC00519397', '2010-01-09', 0.0, 68),\n",
       " (9, 'USC00519397', '2010-01-10', 0.0, 73),\n",
       " (10, 'USC00519397', '2010-01-11', 0.01, 64)]"
      ]
     },
     "execution_count": 4,
     "metadata": {},
     "output_type": "execute_result"
    }
   ],
   "source": [
    "engine.execute('SELECT * FROM measurements LIMIT 10').fetchall()"
   ]
  },
  {
   "cell_type": "code",
   "execution_count": 5,
   "metadata": {},
   "outputs": [
    {
     "name": "stdout",
     "output_type": "stream",
     "text": [
      "station VARCHAR\n",
      "name VARCHAR\n",
      "latitude FLOAT\n",
      "longitude FLOAT\n",
      "elevation FLOAT\n"
     ]
    }
   ],
   "source": [
    "inspector = inspect(engine)\n",
    "columns = inspector.get_columns('stations')\n",
    "for c in columns:\n",
    "    print(c['name'], c[\"type\"])"
   ]
  },
  {
   "cell_type": "code",
   "execution_count": 6,
   "metadata": {},
   "outputs": [
    {
     "name": "stdout",
     "output_type": "stream",
     "text": [
      "id INTEGER\n",
      "station VARCHAR\n",
      "date VARCHAR\n",
      "prcp FLOAT\n",
      "tobs INTEGER\n"
     ]
    }
   ],
   "source": [
    "inspector = inspect(engine)\n",
    "columns = inspector.get_columns('measurements')\n",
    "for c in columns:\n",
    "    print(c['name'], c[\"type\"])"
   ]
  },
  {
   "cell_type": "markdown",
   "metadata": {},
   "source": [
    "## Reflect and query dates"
   ]
  },
  {
   "cell_type": "code",
   "execution_count": 7,
   "metadata": {
    "collapsed": true
   },
   "outputs": [],
   "source": [
    "# reflect an existing database into a new model\n",
    "Base = automap_base()\n",
    "\n",
    "# reflect the tables\n",
    "Base.prepare(engine, reflect=True)\n",
    "\n",
    "# Save references to the table\n",
    "Measurement = Base.classes.measurements\n",
    "Station = Base.classes.stations\n",
    "\n",
    "# Create our session (link) from Python to the DB\n",
    "session = Session(engine)"
   ]
  },
  {
   "cell_type": "markdown",
   "metadata": {},
   "source": [
    "## Precipitation Analysis"
   ]
  },
  {
   "cell_type": "code",
   "execution_count": 8,
   "metadata": {
    "collapsed": true
   },
   "outputs": [],
   "source": [
    "# # Write a function called `calc_temps` that will accept start date and end date in the format '%Y-%m-%d' \n",
    "# # and return the minimum, average, and maximum temperatures for that range of dates\n",
    "# def calc_temps(start_date, end_date):\n",
    "#     \"\"\"TMIN, TAVG, and TMAX for a list of dates.\n",
    "    \n",
    "#     Args:\n",
    "#         start_date (string): A date string in the format %Y-%m-%d\n",
    "#         end_date (string): A date string in the format %Y-%m-%d\n",
    "        \n",
    "#     Returns:\n",
    "#         TMIN, TAVE, and TMAX\n",
    "#     \"\"\"\n",
    "    \n",
    "#     return session.query(func.min(Measurement.tobs), func.avg(Measurement.tobs), func.max(Measurement.tobs)).\\\n",
    "#         filter(Measurement.date >= start_date).filter(Measurement.date <= end_date).all()\n",
    "# print(calc_temps('2012-02-28', '2012-03-05'))"
   ]
  },
  {
   "cell_type": "code",
   "execution_count": 9,
   "metadata": {},
   "outputs": [],
   "source": [
    "#last_12 = session.query(Measurement).filter_by(func.strftime(\"%m/%d/%y\", Measurement.date) >= \"5/10/15\")\n",
    "#last_12 = session.query(Measurement).filter(func.strftime(\"%m/%d/%y\", Measurement.date) > \"5/10/15\")\n",
    "\n",
    "## WHY NOT WORKING?\n",
    "#tobs_high = session.query(Measurement).filter_by(tobs == 80).all()\n",
    "\n",
    "# id_print = session.query(Measurement).filter_by(id=5).count()\n",
    "# print(id_print)\n",
    "\n",
    "\n",
    "### WORKS\n",
    "# thing = session.query(Measurement).filter_by(tobs = 80).count()\n",
    "# print(thing)\n",
    "# stuff = session.query(Measurement).filter(Measurement.tobs > 80).count()\n",
    "# print(stuff)\n",
    "\n",
    "#update_one = session.query(Garbage).filter(Garbage.id == 1).first()\n",
    "\n",
    "\n",
    "## NOT YET\n",
    "# target = session.query(Measurement.date).filter(func.strftime(\"%m/%d/%y\", Measurement.date) > \"5/10/15\").count()\n",
    "# print(target)\n",
    "\n",
    "# attacks = session.query(Measurement) \n",
    "# for x in attacks:\n",
    "#     print(x.tobs)\n",
    "\n",
    "#last_12 = session.query(Measurement).filter(func.strftime(\"%m/%d/%y\", Measurement.date) > \"5/10/15\")\n",
    "\n",
    "\n",
    "#filter(func.strftime(\"%m\", Dow.date) == \"05\")\n",
    "#year_2017 = session.query(Sharks).filter_by(year=2017).count()\n",
    "# for item in tobs_high:\n",
    "#     print(item.tobs)\n",
    "### END SOLUTION"
   ]
  },
  {
   "cell_type": "code",
   "execution_count": 10,
   "metadata": {},
   "outputs": [],
   "source": [
    "# these = session.query(Measurement.tobs, Measurement.date).filter(Measurement.tobs > 80).all()\n",
    "# print(these)"
   ]
  },
  {
   "cell_type": "code",
   "execution_count": 36,
   "metadata": {},
   "outputs": [],
   "source": [
    "# Retrieve the last 12 months of precipitation data by finding the maximum date in the table and subtracting one year.\n",
    "# Select average prcp value by date and date.\n",
    "\n",
    "max_date = session.query(func.max(func.strftime(\"%Y/%m/%d\", Measurement.date))).all()\n",
    "max_date = datetime.strptime(max_date[0][0], \"%Y/%m/%d\").date()\n",
    "\n",
    "sel = [Measurement.date, func.avg(Measurement.prcp)]\n",
    "\n",
    "prcp_twelve_months = session.query(*sel).\\\n",
    "    filter(Measurement.date >= (max_date - relativedelta(years=1))).\\\n",
    "    group_by(Measurement.date).all()\n",
    "#print(prcp_twelve_months)"
   ]
  },
  {
   "cell_type": "code",
   "execution_count": 45,
   "metadata": {},
   "outputs": [],
   "source": [
    "# Convert selected data to be loaded into a Pandas Dataframe\n",
    "\n",
    "prcp_twelve_months_dict = dict(prcp_twelve_months)\n",
    "\n",
    "prcp_twelve_months_df = pd.DataFrame.from_dict(prcp_twelve_months_dict, orient='index', dtype=None)\n",
    "\n",
    "prcp_twelve_months_df = prcp_twelve_months_df.reset_index()\n",
    "prcp_twelve_months_df.columns = ['date', 'prcp']\n",
    "prcp_twelve_months_df = prcp_twelve_months_df.set_index('date')\n",
    "#prcp_twelve_months_df"
   ]
  },
  {
   "cell_type": "code",
   "execution_count": 14,
   "metadata": {},
   "outputs": [
    {
     "data": {
      "text/html": [
       "<div>\n",
       "<style>\n",
       "    .dataframe thead tr:only-child th {\n",
       "        text-align: right;\n",
       "    }\n",
       "\n",
       "    .dataframe thead th {\n",
       "        text-align: left;\n",
       "    }\n",
       "\n",
       "    .dataframe tbody tr th {\n",
       "        vertical-align: top;\n",
       "    }\n",
       "</style>\n",
       "<table border=\"1\" class=\"dataframe\">\n",
       "  <thead>\n",
       "    <tr style=\"text-align: right;\">\n",
       "      <th></th>\n",
       "      <th>prcp</th>\n",
       "    </tr>\n",
       "  </thead>\n",
       "  <tbody>\n",
       "    <tr>\n",
       "      <th>count</th>\n",
       "      <td>366.000000</td>\n",
       "    </tr>\n",
       "    <tr>\n",
       "      <th>mean</th>\n",
       "      <td>0.168242</td>\n",
       "    </tr>\n",
       "    <tr>\n",
       "      <th>std</th>\n",
       "      <td>0.273743</td>\n",
       "    </tr>\n",
       "    <tr>\n",
       "      <th>min</th>\n",
       "      <td>0.000000</td>\n",
       "    </tr>\n",
       "    <tr>\n",
       "      <th>25%</th>\n",
       "      <td>0.020743</td>\n",
       "    </tr>\n",
       "    <tr>\n",
       "      <th>50%</th>\n",
       "      <td>0.080590</td>\n",
       "    </tr>\n",
       "    <tr>\n",
       "      <th>75%</th>\n",
       "      <td>0.186200</td>\n",
       "    </tr>\n",
       "    <tr>\n",
       "      <th>max</th>\n",
       "      <td>2.049086</td>\n",
       "    </tr>\n",
       "  </tbody>\n",
       "</table>\n",
       "</div>"
      ],
      "text/plain": [
       "             prcp\n",
       "count  366.000000\n",
       "mean     0.168242\n",
       "std      0.273743\n",
       "min      0.000000\n",
       "25%      0.020743\n",
       "50%      0.080590\n",
       "75%      0.186200\n",
       "max      2.049086"
      ]
     },
     "execution_count": 14,
     "metadata": {},
     "output_type": "execute_result"
    }
   ],
   "source": [
    "# Use Pandas to give summary statistics of precipitation data\n",
    "\n",
    "prcp_twelve_months_df.describe()"
   ]
  },
  {
   "cell_type": "code",
   "execution_count": 43,
   "metadata": {},
   "outputs": [
    {
     "data": {
      "image/png": "[encoded data removed]",
      "text/plain": [
       "<matplotlib.figure.Figure at 0x11b5546d8>"
      ]
     },
     "metadata": {},
     "output_type": "display_data"
    }
   ],
   "source": [
    "# Plot the precipitation data indexed by date\n",
    "\n",
    "ax = prcp_twelve_months_df.plot(kind='bar', title =\"Last Twelve Months' Precipitation Averages\",figsize=(12,7),legend=True, fontsize=12)\n",
    "ax.set_xlabel(\"Date\",fontsize=12)\n",
    "\n",
    "ax.xaxis.set_major_locator(MaxNLocator(10))\n",
    "plt.xticks(rotation=45)\n",
    "plt.legend([\"precipitation\"],loc=\"upper left\")\n",
    "\n",
    "plt.show()"
   ]
  },
  {
   "cell_type": "markdown",
   "metadata": {},
   "source": [
    "## Station Analysis"
   ]
  },
  {
   "cell_type": "code",
   "execution_count": null,
   "metadata": {},
   "outputs": [],
   "source": [
    "# Design a query to calculate the total number of stations.\n",
    "\n",
    "# Design a query to find the most active stations.\n",
    "\n",
    "# List the stations and observation counts in descending order\n",
    "\n",
    "# Which station has the highest number of observations?\n",
    "\n",
    "# Design a query to retrieve the last 12 months of temperature observation data (tobs).\n",
    "\n",
    "# Filter by the station with the highest number of observations.\n",
    "\n",
    "# Plot the results as a histogram with bins=12."
   ]
  },
  {
   "cell_type": "code",
   "execution_count": null,
   "metadata": {},
   "outputs": [],
   "source": []
  },
  {
   "cell_type": "code",
   "execution_count": null,
   "metadata": {},
   "outputs": [],
   "source": []
  },
  {
   "cell_type": "code",
   "execution_count": null,
   "metadata": {},
   "outputs": [],
   "source": []
  },
  {
   "cell_type": "code",
   "execution_count": 44,
   "metadata": {},
   "outputs": [],
   "source": [
    "# ax.bar(prcp_twelve_months_df['prcp'], prcp_twelve_months_df['date'])\n",
    "# plt.show()"
   ]
  },
  {
   "cell_type": "code",
   "execution_count": 22,
   "metadata": {},
   "outputs": [],
   "source": [
    "# plt.bar(prcp_twelve_months_df.index, prcp_twelve_months_df['prcp'])\n",
    "# plt.show()"
   ]
  },
  {
   "cell_type": "code",
   "execution_count": 23,
   "metadata": {
    "collapsed": true
   },
   "outputs": [],
   "source": [
    "# # Retrieve the last 12 months of precipitation data.\n",
    "# # Select only the date and prcp values.\n",
    "\n",
    "# max_date = session.query(func.max(func.strftime(\"%Y/%m/%d\", Measurement.date))).all()\n",
    "# max_date = datetime.strptime(max_date[0][0], \"%Y/%m/%d\").date()\n",
    "\n",
    "# # one_year = (max_date - relativedelta(years=1))\n",
    "\n",
    "\n",
    "# # sel = [Measurement.date, Measurement.prcp]\n",
    "\n",
    "# sel = [Measurement.date, \n",
    "#        func.avg(Measurement.prcp)]\n",
    "\n",
    "# # test2 = session.query(*sel).\\\n",
    "# #     filter(Measurement.date >= one_year).all()\n",
    "# # print(test2)\n",
    "\n",
    "\n",
    "# # YES!!\n",
    "# # test3 = session.query(*sel).\\\n",
    "# #     filter(Measurement.date >= (max_date - relativedelta(years=1))).all()\n",
    "# # print(test3)\n",
    "\n",
    "# test4 = session.query(*sel).\\\n",
    "#     filter(Measurement.date >= (max_date - relativedelta(years=1))).\\\n",
    "#     group_by(Measurement.date).all()\n",
    "# print(test4)\n",
    "\n"
   ]
  },
  {
   "cell_type": "code",
   "execution_count": 24,
   "metadata": {},
   "outputs": [],
   "source": [
    "\n",
    "\n",
    "# # sel = [Measurement.date, \n",
    "# #        func.avg(Measurement.prcp)]\n",
    "\n",
    "# sel = [Measurement.date, Measurement.prcp]\n",
    "\n",
    "# # precipitation_12_months = session.query(*sel).\\\n",
    "# #     filter(func.strftime(\"%m/%d/%y\", Measurement.date) >= \"5/10/15\").all()\n",
    "    \n",
    "# precipitation_sample = session.query(*sel).\\\n",
    "#     filter(func.strftime(\"%YY/%m/%d\", Measurement.date) >= \"2015/10/15\").all()\n",
    "\n",
    "# # precipitation_12_months = session.query(*sel).\\\n",
    "# #     filter(func.strftime(\"%m/%d/%y\", Measurement.date) >= \"5/10/15\").\\\n",
    "# #     group_by(Measurement.date).\\\n",
    "# #     order_by(Measurement.date).all()\n",
    "\n",
    "# print(precipitation_sample)"
   ]
  },
  {
   "cell_type": "code",
   "execution_count": 25,
   "metadata": {},
   "outputs": [],
   "source": [
    "# max_date = session.query(func.max(func.strftime(\"%Y/%m/%d\", Measurement.date))).all()\n",
    "# print(max_date)"
   ]
  },
  {
   "cell_type": "code",
   "execution_count": 26,
   "metadata": {},
   "outputs": [],
   "source": [
    "# #dates_list = [dt.datetime.strptime(date, '\"%Y-%m-%d\"').date() for date in dates]\n",
    "\n",
    "# # print(max_date[0])\n",
    "# # print(max_date[0][0])\n",
    "\n",
    "# #type(max_date[0][0])\n",
    "\n",
    "# jessica = datetime.strptime(max_date[0][0], \"%Y/%m/%d\").date()\n",
    "# # type(jessica)\n",
    "# print(jessica)\n",
    "\n",
    "# # james = datetime.strptime(max_date[0][0], \"%Y/%m/%d\").date()\n",
    "# # # type(james)\n",
    "# # print(james)\n",
    "\n",
    "# # datetime.strptime(max_date[0], \"%Y/%m/%d\")\n",
    "\n",
    "# # james = datetime.strptime(max_date[0], \"%Y/%m/%d\")\n",
    "# # print(james)\n",
    "# # type(james)\n",
    "# #max_date = datetime(max_date)"
   ]
  },
  {
   "cell_type": "code",
   "execution_count": 27,
   "metadata": {},
   "outputs": [],
   "source": [
    "# max_date = datetime.strptime(max_date[0][0], \"%Y/%m/%d\").date()\n",
    "# #"
   ]
  },
  {
   "cell_type": "code",
   "execution_count": 28,
   "metadata": {
    "collapsed": true
   },
   "outputs": [],
   "source": [
    "#attacks = session.query(Sharks) \n",
    "# for attack in attacks:\n",
    "#     print(attack.location)"
   ]
  },
  {
   "cell_type": "code",
   "execution_count": 29,
   "metadata": {},
   "outputs": [],
   "source": [
    "# for x in precipitation_12_months:\n",
    "#     print(x.prcp)"
   ]
  },
  {
   "cell_type": "code",
   "execution_count": 30,
   "metadata": {},
   "outputs": [],
   "source": [
    "# if '2017-10-1' <= '2017-9-31':\n",
    "#     print (\"True\")"
   ]
  },
  {
   "cell_type": "code",
   "execution_count": 31,
   "metadata": {},
   "outputs": [],
   "source": [
    "# type(max_date)"
   ]
  },
  {
   "cell_type": "code",
   "execution_count": 32,
   "metadata": {},
   "outputs": [],
   "source": [
    "# print(max_date)"
   ]
  },
  {
   "cell_type": "code",
   "execution_count": 49,
   "metadata": {},
   "outputs": [],
   "source": [
    "# # new_date = (now + relativedelta(years=1)).date()\n",
    "# # print(new_date)\n",
    "\n",
    "# one_year = (max_date - relativedelta(years=1))\n",
    "# print(one_year)"
   ]
  },
  {
   "cell_type": "code",
   "execution_count": null,
   "metadata": {},
   "outputs": [],
   "source": []
  },
  {
   "cell_type": "code",
   "execution_count": 50,
   "metadata": {},
   "outputs": [],
   "source": [
    "# ### THIS ISNT WORKING - RETURNS BACK TO JAN 2016\n",
    "\n",
    "# test = session.query(*sel).\\\n",
    "#     filter(func.strftime(\"%Y/%m/%d\", Measurement.date) >= one_year).all()\n",
    "    \n",
    "# # precip = session.query(*sel).\\\n",
    "# #     filter(datetime.strptime(\"%Y/%m/%d\", Measurement.date) >= one_year)\n",
    "  \n",
    "    \n",
    "# # test = session.query(*sel).\\\n",
    "# #     filter(func.strftime(\"%YY/%m/%d\", Measurement.date) >= \"2016/08/15\").all()\n",
    "    \n",
    "# print(test)"
   ]
  },
  {
   "cell_type": "code",
   "execution_count": 35,
   "metadata": {},
   "outputs": [],
   "source": []
  },
  {
   "cell_type": "code",
   "execution_count": null,
   "metadata": {
    "collapsed": true
   },
   "outputs": [],
   "source": []
  },
  {
   "cell_type": "code",
   "execution_count": null,
   "metadata": {
    "collapsed": true
   },
   "outputs": [],
   "source": []
  },
  {
   "cell_type": "code",
   "execution_count": null,
   "metadata": {
    "collapsed": true
   },
   "outputs": [],
   "source": []
  }
 ],
 "metadata": {
  "kernelspec": {
   "display_name": "Python 3",
   "language": "python",
   "name": "python3"
  },
  "language_info": {
   "codemirror_mode": {
    "name": "ipython",
    "version": 3
   },
   "file_extension": ".py",
   "mimetype": "text/x-python",
   "name": "python",
   "nbconvert_exporter": "python",
   "pygments_lexer": "ipython3",
   "version": "3.6.2"
  }
 },
 "nbformat": 4,
 "nbformat_minor": 2
}
