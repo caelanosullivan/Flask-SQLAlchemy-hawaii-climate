{
 "cells": [
  {
   "cell_type": "code",
   "execution_count": 1,
   "metadata": {
    "collapsed": true
   },
   "outputs": [],
   "source": [
    "# My trip: end by 8/23/17 to be part of the dateset? 10 day trip....\n",
    "\n",
    "# Import Dependencies\n",
    "\n",
    "#import numpy as np\n",
    "import matplotlib.pyplot as plt\n",
    "import pandas as pd\n",
    "#import os\n",
    "from pylab import *\n",
    "\n",
    "from datetime import date, time, datetime, timedelta\n",
    "from dateutil.relativedelta import relativedelta\n",
    "# from datetime import time\n",
    "# from datetime import datetime\n",
    "\n",
    "# Python SQL toolkit and Object Relational Mapper\n",
    "import sqlalchemy\n",
    "from sqlalchemy.ext.automap import automap_base\n",
    "from sqlalchemy.orm import Session\n",
    "from sqlalchemy import create_engine, inspect, func#, MetaData\n",
    "#from sqlalchemy.ext.declarative import declarative_base\n",
    "\n",
    "# Allow us to declare column types\n",
    "#from sqlalchemy import Column, Integer, String, Float\n",
    "\n",
    "# import pymysql\n",
    "# pymysql.install_as_MySQLdb()"
   ]
  },
  {
   "cell_type": "markdown",
   "metadata": {},
   "source": [
    "today = date.today()\n",
    "print(today)"
   ]
  },
  {
   "cell_type": "markdown",
   "metadata": {},
   "source": [
    "now = datetime.now()\n",
    "print(now.strftime('%m/%d/%y'))"
   ]
  },
  {
   "cell_type": "markdown",
   "metadata": {},
   "source": [
    "d = now - timedelta(years=1)\n",
    "print(d)"
   ]
  },
  {
   "cell_type": "markdown",
   "metadata": {},
   "source": [
    "\n",
    "\n",
    "new_date = (now + relativedelta(years=1)).date()\n",
    "print(new_date)"
   ]
  },
  {
   "cell_type": "markdown",
   "metadata": {},
   "source": [
    "type(new_date)"
   ]
  },
  {
   "cell_type": "markdown",
   "metadata": {},
   "source": [
    "print(new_date.strftime('%Y/%m/%d'))"
   ]
  },
  {
   "cell_type": "markdown",
   "metadata": {},
   "source": [
    "## Database Setup"
   ]
  },
  {
   "cell_type": "code",
   "execution_count": 2,
   "metadata": {
    "collapsed": true
   },
   "outputs": [],
   "source": [
    "# Create an engine to the SQLite database file called `hawaii.sqlite`\n",
    "engine = create_engine(\"sqlite:///hawaii.sqlite\")"
   ]
  },
  {
   "cell_type": "code",
   "execution_count": 3,
   "metadata": {},
   "outputs": [
    {
     "data": {
      "text/plain": [
       "['measurements', 'stations']"
      ]
     },
     "execution_count": 3,
     "metadata": {},
     "output_type": "execute_result"
    }
   ],
   "source": [
    "# Check for tables\n",
    "engine.table_names()"
   ]
  },
  {
   "cell_type": "code",
   "execution_count": 4,
   "metadata": {},
   "outputs": [
    {
     "data": {
      "text/plain": [
       "[(1, 'USC00519397', '2010-01-01', 0.08, 65),\n",
       " (2, 'USC00519397', '2010-01-02', 0.0, 63),\n",
       " (3, 'USC00519397', '2010-01-03', 0.0, 74),\n",
       " (4, 'USC00519397', '2010-01-04', 0.0, 76),\n",
       " (5, 'USC00519397', '2010-01-06', 0.0490204841713224, 73),\n",
       " (6, 'USC00519397', '2010-01-07', 0.06, 70),\n",
       " (7, 'USC00519397', '2010-01-08', 0.0, 64),\n",
       " (8, 'USC00519397', '2010-01-09', 0.0, 68),\n",
       " (9, 'USC00519397', '2010-01-10', 0.0, 73),\n",
       " (10, 'USC00519397', '2010-01-11', 0.01, 64)]"
      ]
     },
     "execution_count": 4,
     "metadata": {},
     "output_type": "execute_result"
    }
   ],
   "source": [
    "engine.execute('SELECT * FROM measurements LIMIT 10').fetchall()"
   ]
  },
  {
   "cell_type": "code",
   "execution_count": 5,
   "metadata": {},
   "outputs": [
    {
     "name": "stdout",
     "output_type": "stream",
     "text": [
      "station VARCHAR\n",
      "name VARCHAR\n",
      "latitude FLOAT\n",
      "longitude FLOAT\n",
      "elevation FLOAT\n"
     ]
    }
   ],
   "source": [
    "inspector = inspect(engine)\n",
    "columns = inspector.get_columns('stations')\n",
    "for c in columns:\n",
    "    print(c['name'], c[\"type\"])"
   ]
  },
  {
   "cell_type": "code",
   "execution_count": 6,
   "metadata": {},
   "outputs": [
    {
     "name": "stdout",
     "output_type": "stream",
     "text": [
      "id INTEGER\n",
      "station VARCHAR\n",
      "date VARCHAR\n",
      "prcp FLOAT\n",
      "tobs INTEGER\n"
     ]
    }
   ],
   "source": [
    "inspector = inspect(engine)\n",
    "columns = inspector.get_columns('measurements')\n",
    "for c in columns:\n",
    "    print(c['name'], c[\"type\"])"
   ]
  },
  {
   "cell_type": "markdown",
   "metadata": {},
   "source": [
    "## Reflect and query dates"
   ]
  },
  {
   "cell_type": "code",
   "execution_count": 7,
   "metadata": {
    "collapsed": true
   },
   "outputs": [],
   "source": [
    "# reflect an existing database into a new model\n",
    "Base = automap_base()\n",
    "\n",
    "# reflect the tables\n",
    "Base.prepare(engine, reflect=True)\n",
    "\n",
    "# Save references to the table\n",
    "Measurement = Base.classes.measurements\n",
    "Station = Base.classes.stations\n",
    "\n",
    "# Create our session (link) from Python to the DB\n",
    "session = Session(engine)"
   ]
  },
  {
   "cell_type": "markdown",
   "metadata": {},
   "source": [
    "## Precipitation Analysis"
   ]
  },
  {
   "cell_type": "code",
   "execution_count": 8,
   "metadata": {
    "collapsed": true
   },
   "outputs": [],
   "source": [
    "# # Write a function called `calc_temps` that will accept start date and end date in the format '%Y-%m-%d' \n",
    "# # and return the minimum, average, and maximum temperatures for that range of dates\n",
    "# def calc_temps(start_date, end_date):\n",
    "#     \"\"\"TMIN, TAVG, and TMAX for a list of dates.\n",
    "    \n",
    "#     Args:\n",
    "#         start_date (string): A date string in the format %Y-%m-%d\n",
    "#         end_date (string): A date string in the format %Y-%m-%d\n",
    "        \n",
    "#     Returns:\n",
    "#         TMIN, TAVE, and TMAX\n",
    "#     \"\"\"\n",
    "    \n",
    "#     return session.query(func.min(Measurement.tobs), func.avg(Measurement.tobs), func.max(Measurement.tobs)).\\\n",
    "#         filter(Measurement.date >= start_date).filter(Measurement.date <= end_date).all()\n",
    "# print(calc_temps('2012-02-28', '2012-03-05'))"
   ]
  },
  {
   "cell_type": "code",
   "execution_count": 9,
   "metadata": {},
   "outputs": [],
   "source": [
    "#last_12 = session.query(Measurement).filter_by(func.strftime(\"%m/%d/%y\", Measurement.date) >= \"5/10/15\")\n",
    "#last_12 = session.query(Measurement).filter(func.strftime(\"%m/%d/%y\", Measurement.date) > \"5/10/15\")\n",
    "\n",
    "## WHY NOT WORKING?\n",
    "#tobs_high = session.query(Measurement).filter_by(tobs == 80).all()\n",
    "\n",
    "# id_print = session.query(Measurement).filter_by(id=5).count()\n",
    "# print(id_print)\n",
    "\n",
    "\n",
    "### WORKS\n",
    "# thing = session.query(Measurement).filter_by(tobs = 80).count()\n",
    "# print(thing)\n",
    "# stuff = session.query(Measurement).filter(Measurement.tobs > 80).count()\n",
    "# print(stuff)\n",
    "\n",
    "\n",
    "\n",
    "#update_one = session.query(Garbage).filter(Garbage.id == 1).first()\n",
    "\n",
    "\n",
    "## NOT YET\n",
    "# target = session.query(Measurement.date).filter(func.strftime(\"%m/%d/%y\", Measurement.date) > \"5/10/15\").count()\n",
    "# print(target)\n",
    "\n",
    "# attacks = session.query(Measurement) \n",
    "# for x in attacks:\n",
    "#     print(x.tobs)\n",
    "\n",
    "#last_12 = session.query(Measurement).filter(func.strftime(\"%m/%d/%y\", Measurement.date) > \"5/10/15\")\n",
    "\n",
    "\n",
    "#filter(func.strftime(\"%m\", Dow.date) == \"05\")\n",
    "#year_2017 = session.query(Sharks).filter_by(year=2017).count()\n",
    "# for item in tobs_high:\n",
    "#     print(item.tobs)\n",
    "### END SOLUTION"
   ]
  },
  {
   "cell_type": "code",
   "execution_count": 10,
   "metadata": {},
   "outputs": [],
   "source": [
    "# these = session.query(Measurement.tobs, Measurement.date).filter(Measurement.tobs > 80).all()\n",
    "# print(these)"
   ]
  },
  {
   "cell_type": "code",
   "execution_count": 25,
   "metadata": {},
   "outputs": [
    {
     "name": "stdout",
     "output_type": "stream",
     "text": [
      "[('2016-08-23', 0.39622882242208746), ('2016-08-24', 1.341943108136373), ('2016-08-25', 0.07714285714285715), ('2016-08-26', 0.016666666666666666), ('2016-08-27', 0.12499798711755201), ('2016-08-28', 0.5166666666666666), ('2016-08-29', 0.21765739385065888), ('2016-08-30', 0.011666666666666667), ('2016-08-31', 0.4806657277985901), ('2016-09-01', 0.015600292825768672), ('2016-09-02', 0.061223268100825456), ('2016-09-03', 0.254), ('2016-09-04', 0.276), ('2016-09-05', 0.08501313696780692), ('2016-09-06', 0.2131700806952204), ('2016-09-07', 0.3333333333333333), ('2016-09-08', 0.07480025099351602), ('2016-09-09', 0.16194310813637314), ('2016-09-10', 0.27999999999999997), ('2016-09-11', 0.25), ('2016-09-12', 0.2463800135128759), ('2016-09-13', 0.39622882242208746), ('2016-09-14', 2.04908596527923), ('2016-09-15', 0.7176573938506589), ('2016-09-16', 0.11714285714285715), ('2016-09-17', 0.13599999999999998), ('2016-09-18', 0.10600000000000001), ('2016-09-19', 0.07209429922716158), ('2016-09-20', 0.14714285714285716), ('2016-09-21', 0.19499999999999998), ('2016-09-22', 0.2057142857142857), ('2016-09-23', 0.22428571428571428), ('2016-09-24', 0.04666666666666667), ('2016-09-25', 0.015), ('2016-09-26', 0.24765739385065885), ('2016-09-27', 0.22666666666666666), ('2016-09-28', 0.018571428571428572), ('2016-09-29', 0.42714285714285716), ('2016-09-30', 0.17337167956494456), ('2016-10-01', 0.2416666666666667), ('2016-10-02', 0.12), ('2016-10-03', 0.10765739385065887), ('2016-10-04', 0.5076573938506589), ('2016-10-05', 0.12622882242208744), ('2016-10-06', 0.022857142857142857), ('2016-10-07', 0.01051453670780172), ('2016-10-08', 0.008), ('2016-10-09', 0.0), ('2016-10-10', 0.020176389605919835), ('2016-10-11', 0.10765739385065887), ('2016-10-12', 0.013333333333333334), ('2016-10-13', 0.020514536707801716), ('2016-10-14', 0.0), ('2016-10-15', 0.065), ('2016-10-16', 0.0), ('2016-10-17', 0.10495144208430443), ('2016-10-18', 0.094800250993516), ('2016-10-19', 0.03337167956494458), ('2016-10-20', 0.17893362615910202), ('2016-10-21', 0.07122326810082547), ('2016-10-22', 0.354), ('2016-10-23', 0.0668430562725865), ('2016-10-24', 0.12194310813637313), ('2016-10-25', 0.15714285714285717), ('2016-10-26', 0.04833333333333334), ('2016-10-27', 0.274800250993516), ('2016-10-28', 0.09051453670780171), ('2016-10-29', 0.10666666666666667), ('2016-10-30', 0.26499999999999996), ('2016-10-31', 0.23908596527923032), ('2016-11-01', 0.035), ('2016-11-02', 0.006666666666666667), ('2016-11-03', 0.0033333333333333335), ('2016-11-04', 0.017657393850658863), ('2016-11-05', 0.075), ('2016-11-06', 0.013333333333333334), ('2016-11-07', 0.03480025099351601), ('2016-11-08', 0.18666666666666668), ('2016-11-09', 0.05714285714285714), ('2016-11-10', 0.0016666666666666668), ('2016-11-11', 0.0), ('2016-11-12', 0.0), ('2016-11-13', 0.0), ('2016-11-14', 0.02142857142857143), ('2016-11-15', 0.016228822422087435), ('2016-11-16', 0.2290859652792303), ('2016-11-17', 0.017657393850658863), ('2016-11-18', 0.01872035139092241), ('2016-11-19', 0.095), ('2016-11-20', 0.27599758454106244), ('2016-11-21', 0.523933626159102), ('2016-11-22', 0.7420942992271614), ('2016-11-23', 0.12226695949243534), ('2016-11-24', 0.296), ('2016-11-25', 0.24017638960591983), ('2016-11-26', 0.085), ('2016-11-27', 0.09166666666666667), ('2016-11-28', 0.11194310813637313), ('2016-11-29', 0.07051453670780171), ('2016-11-30', 0.16051453670780175), ('2016-12-01', 0.2619431081363731), ('2016-12-02', 0.3462288224220874), ('2016-12-03', 0.45166666666666666), ('2016-12-04', 0.13333333333333333), ('2016-12-05', 0.4719431081363732), ('2016-12-06', 0.01726695949243534), ('2016-12-07', 0.08066572779859014), ('2016-12-08', 0.06571428571428573), ('2016-12-09', 0.31893362615910203), ('2016-12-10', 0.04082685329186103), ('2016-12-11', 0.05), ('2016-12-12', 0.024436905376502716), ('2016-12-13', 0.11908596527923031), ('2016-12-14', 0.22337167956494458), ('2016-12-15', 0.04622882242208743), ('2016-12-16', 0.014800250993516005), ('2016-12-17', 0.07), ('2016-12-18', 0.21999798711755203), ('2016-12-19', 0.06908596527923029), ('2016-12-20', 0.013371679564944576), ('2016-12-21', 0.1285714285714286), ('2016-12-22', 0.36194310813637315), ('2016-12-23', 0.18480025099351602), ('2016-12-24', 0.27), ('2016-12-25', 0.086), ('2016-12-26', 0.36017638960591986), ('2016-12-27', 0.04), ('2016-12-28', 0.06765739385065886), ('2016-12-29', 0.3490859652792303), ('2016-12-30', 0.4876573938506588), ('2016-12-31', 0.42800000000000005), ('2017-01-01', 0.0774935199585277), ('2017-01-02', 0.004), ('2017-01-03', 0.019160186625194368), ('2017-01-04', 0.03), ('2017-01-05', 0.15833333333333333), ('2017-01-06', 0.13333333333333333), ('2017-01-07', 0.01), ('2017-01-08', 0.01), ('2017-01-09', 0.009085965279230291), ('2017-01-10', 0.009085965279230291), ('2017-01-11', 0.010600292825768673), ('2017-01-12', 0.02976047945096304), ('2017-01-13', 0.030776682431688508), ('2017-01-14', 0.002), ('2017-01-15', 0.02499222395023324), ('2017-01-16', 0.020176389605919835), ('2017-01-17', 0.0), ('2017-01-18', 0.026423017107309456), ('2017-01-19', 0.011943108136373148), ('2017-01-20', 0.009085965279230291), ('2017-01-21', 0.04666666666666666), ('2017-01-22', 0.20400000000000001), ('2017-01-23', 0.16066572779859015), ('2017-01-24', 0.3856002928257687), ('2017-01-25', 0.5378085849414473), ('2017-01-26', 0.015714285714285715), ('2017-01-27', 0.008571428571428572), ('2017-01-28', 0.028000000000000004), ('2017-01-29', 0.22099222395023324), ('2017-01-30', 0.024436905376502716), ('2017-01-31', 0.0), ('2017-02-01', 0.0), ('2017-02-02', 0.0), ('2017-02-03', 0.0), ('2017-02-04', 0.08599758454106245), ('2017-02-05', 0.020176389605919835), ('2017-02-06', 0.06337167956494458), ('2017-02-07', 1.0571428571428572), ('2017-02-08', 0.1542857142857143), ('2017-02-09', 0.002857142857142857), ('2017-02-10', 0.0), ('2017-02-11', 1.866666666666667), ('2017-02-12', 1.7466666666666668), ('2017-02-13', 0.4262288224220874), ('2017-02-14', 0.0016666666666666668), ('2017-02-15', 0.03693755381511118), ('2017-02-16', 0.3262288224220874), ('2017-02-17', 0.17500000000000004), ('2017-02-18', 0.08799758454106245), ('2017-02-19', 0.0475), ('2017-02-20', 0.0393365762311142), ('2017-02-21', 0.03226695949243534), ('2017-02-22', 0.13000000000000003), ('2017-02-23', 0.0014285714285714286), ('2017-02-24', 0.0), ('2017-02-25', 0.0375), ('2017-02-26', 0.0393365762311142), ('2017-02-27', 0.009085965279230291), ('2017-02-28', 0.1262288224220874), ('2017-03-01', 1.6600000000000001), ('2017-03-02', 1.0933333333333333), ('2017-03-03', 0.33586547680507417), ('2017-03-04', 0.0), ('2017-03-05', 0.3025), ('2017-03-06', 0.11994588776304246), ('2017-03-07', 0.010600292825768673), ('2017-03-08', 0.010600292825768673), ('2017-03-09', 0.2964230171073094), ('2017-03-10', 0.04142857142857143), ('2017-03-11', 0.008), ('2017-03-12', 0.0242116675271038), ('2017-03-13', 0.07051281137998919), ('2017-03-14', 0.008571428571428572), ('2017-03-15', 0.01), ('2017-03-16', 0.026380013512875864), ('2017-03-17', 0.13060029282576865), ('2017-03-18', 0.0716646537842187), ('2017-03-19', 0.0), ('2017-03-20', 0.02350972293925317), ('2017-03-21', 0.015), ('2017-03-22', 0.0), ('2017-03-23', 0.008333333333333333), ('2017-03-24', 0.18833333333333335), ('2017-03-25', 0.394), ('2017-03-26', 0.0), ('2017-03-27', 0.021843056272586498), ('2017-03-28', 0.11051453670780173), ('2017-03-29', 0.036228822422087435), ('2017-03-30', 0.035600292825768674), ('2017-03-31', 0.06285541752933031), ('2017-04-01', 0.06833333333333334), ('2017-04-02', 0.0), ('2017-04-03', 0.10337167956494457), ('2017-04-04', 0.02142857142857143), ('2017-04-05', 0.09428571428571429), ('2017-04-06', 0.008571428571428572), ('2017-04-07', 0.0), ('2017-04-08', 0.10749698067632805), ('2017-04-09', 0.0393365762311142), ('2017-04-10', 0.011943108136373146), ('2017-04-11', 0.07622882242208744), ('2017-04-12', 0.16337167956494456), ('2017-04-13', 0.164800250993516), ('2017-04-14', 1.1199999999999999), ('2017-04-15', 0.34800000000000003), ('2017-04-16', 0.21400000000000002), ('2017-04-17', 0.46495144208430444), ('2017-04-18', 0.48), ('2017-04-19', 0.03765739385065887), ('2017-04-20', 0.12051453670780173), ('2017-04-21', 1.2062288224220874), ('2017-04-22', 0.9920000000000002), ('2017-04-23', 0.11499999999999999), ('2017-04-24', 0.05137445919161389), ('2017-04-25', 0.009085965279230291), ('2017-04-26', 0.065), ('2017-04-27', 0.06908596527923029), ('2017-04-28', 0.6148002509935161), ('2017-04-29', 1.3399999999999999), ('2017-04-30', 1.07), ('2017-05-01', 0.135), ('2017-05-02', 0.008333333333333333), ('2017-05-03', 0.006), ('2017-05-04', 0.08499798711755203), ('2017-05-05', 0.06333333333333334), ('2017-05-06', 0.01), ('2017-05-07', 0.024), ('2017-05-08', 0.5016666666666666), ('2017-05-09', 0.9260000000000002), ('2017-05-10', 0.14333333333333334), ('2017-05-11', 0.12), ('2017-05-12', 0.0468430562725865), ('2017-05-13', 0.048), ('2017-05-14', 0.244), ('2017-05-15', 0.16684305627258653), ('2017-05-16', 0.06999999999999999), ('2017-05-17', 0.025000000000000005), ('2017-05-18', 0.14166666666666666), ('2017-05-19', 0.01), ('2017-05-20', 0.09582484040941307), ('2017-05-21', 0.002), ('2017-05-22', 0.08017638960591983), ('2017-05-23', 0.11833333333333333), ('2017-05-24', 0.6483333333333333), ('2017-05-25', 0.37000000000000005), ('2017-05-26', 0.004), ('2017-05-27', 0.085), ('2017-05-28', 0.06833333333333334), ('2017-05-29', 0.084), ('2017-05-30', 0.35999798711755204), ('2017-05-31', 0.074), ('2017-06-01', 0.006666666666666667), ('2017-06-02', 0.06726695949243533), ('2017-06-03', 0.17333132045088537), ('2017-06-04', 0.19166666666666665), ('2017-06-05', 0.020514536707801723), ('2017-06-06', 0.009085965279230291), ('2017-06-07', 0.01051453670780172), ('2017-06-08', 0.013371679564944576), ('2017-06-09', 0.01726695949243534), ('2017-06-10', 0.3266646537842187), ('2017-06-11', 0.35833333333333334), ('2017-06-12', 0.2916666666666667), ('2017-06-13', 0.20622882242208743), ('2017-06-14', 0.23337167956494456), ('2017-06-15', 0.39622882242208746), ('2017-06-16', 0.03765739385065887), ('2017-06-17', 0.09000000000000001), ('2017-06-18', 0.23666666666666666), ('2017-06-19', 0.11337167956494458), ('2017-06-20', 0.10226695949243535), ('2017-06-21', 0.11476047945096306), ('2017-06-22', 0.07333333333333335), ('2017-06-23', 0.11300833394793129), ('2017-06-24', 0.128), ('2017-06-25', 0.12), ('2017-06-26', 0.04066572779859016), ('2017-06-27', 0.018333333333333333), ('2017-06-28', 0.005), ('2017-06-29', 0.027294048233645573), ('2017-06-30', 0.07428571428571429), ('2017-07-01', 0.065), ('2017-07-02', 0.16699222395023322), ('2017-07-03', 0.1320942992271616), ('2017-07-04', 0.037500000000000006), ('2017-07-05', 0.04280303062018532), ('2017-07-06', 0.013933626159102007), ('2017-07-07', 0.0978085849414473), ('2017-07-08', 0.016666666666666666), ('2017-07-09', 0.03333333333333333), ('2017-07-10', 0.014800250993516006), ('2017-07-11', 0.013371679564944576), ('2017-07-12', 0.06051453670780172), ('2017-07-13', 0.2676573938506589), ('2017-07-14', 0.15833333333333335), ('2017-07-15', 0.03166666666666667), ('2017-07-16', 0.135), ('2017-07-17', 0.15166666666666667), ('2017-07-18', 0.3614285714285714), ('2017-07-19', 0.06833333333333334), ('2017-07-20', 0.17714285714285713), ('2017-07-21', 0.018571428571428572), ('2017-07-22', 0.7366666666666667), ('2017-07-23', 0.22600000000000003), ('2017-07-24', 0.5641601866251943), ('2017-07-25', 0.08714285714285715), ('2017-07-26', 0.08051453670780172), ('2017-07-27', 0.01051453670780172), ('2017-07-28', 0.11), ('2017-07-29', 0.10166666666666667), ('2017-07-30', 0.06), ('2017-07-31', 0.026380013512875864), ('2017-08-01', 0.14249698067632804), ('2017-08-02', 0.075), ('2017-08-03', 0.017499999999999998), ('2017-08-04', 0.015), ('2017-08-05', 0.16332930756843742), ('2017-08-06', 0.08599758454106245), ('2017-08-07', 0.0125), ('2017-08-08', 0.11000000000000001), ('2017-08-09', 0.049999999999999996), ('2017-08-10', 0.0175), ('2017-08-11', 0.10749698067632805), ('2017-08-12', 0.04666666666666667), ('2017-08-13', 0.11020925206816626), ('2017-08-14', 0.062), ('2017-08-15', 0.164), ('2017-08-16', 0.1525), ('2017-08-17', 0.0475), ('2017-08-18', 0.12249698067632805), ('2017-08-19', 0.05124027993779155), ('2017-08-20', 0.14666264090177075), ('2017-08-21', 0.17374027993779156), ('2017-08-22', 0.16666666666666666), ('2017-08-23', 0.1325)]\n"
     ]
    }
   ],
   "source": [
    "# Retrieve the last 12 months of precipitation data by finding the maximum date in the table and subtracting one year.\n",
    "# Select average prcp value by date and date.\n",
    "\n",
    "max_date = session.query(func.max(func.strftime(\"%Y/%m/%d\", Measurement.date))).all()\n",
    "max_date = datetime.strptime(max_date[0][0], \"%Y/%m/%d\").date()\n",
    "\n",
    "sel = [Measurement.date, func.avg(Measurement.prcp)]\n",
    "\n",
    "prcp_twelve_months = session.query(*sel).\\\n",
    "    filter(Measurement.date >= (max_date - relativedelta(years=1))).\\\n",
    "    group_by(Measurement.date).all()\n",
    "print(prcp_twelve_months)"
   ]
  },
  {
   "cell_type": "code",
   "execution_count": null,
   "metadata": {
    "collapsed": true
   },
   "outputs": [],
   "source": [
    "# prcp12_dict = dict(prcp12_data)\n",
    "# prcp12_df = pd.DataFrame.from_dict(prcp12_dict, orient='index', dtype=None)\n",
    "# prcp12_df = prcp12_df.reset_index()\n",
    "# prcp12_df.columns = ['date', 'prcp']\n",
    "# prcp12_df = prcp12_df.set_index('date')\n",
    "# prcp12_df"
   ]
  },
  {
   "cell_type": "code",
   "execution_count": 31,
   "metadata": {},
   "outputs": [],
   "source": [
    "# Convert selected data to be loaded into a Pandas Dataframe\n",
    "\n",
    "prcp_twelve_months_dict = dict(prcp_twelve_months)\n",
    "\n",
    "prcp_twelve_months_df = pd.DataFrame.from_dict(prcp_twelve_months_dict, orient='index', dtype=None)\n",
    "\n",
    "prcp_twelve_months_df = prcp_twelve_months_df.reset_index()\n",
    "prcp_twelve_months_df.columns = ['date', 'prcp']\n",
    "prcp_twelve_months_df = prcp_twelve_months_df.set_index('date')\n",
    "#prcp_twelve_months_df"
   ]
  },
  {
   "cell_type": "code",
   "execution_count": 35,
   "metadata": {},
   "outputs": [
    {
     "data": {
      "image/png": "[encoded data removed]",
      "text/plain": [
       "<matplotlib.figure.Figure at 0x11e7a62b0>"
      ]
     },
     "metadata": {},
     "output_type": "display_data"
    }
   ],
   "source": [
    "# Plot the precipitation data indexed by date\n",
    "\n",
    "prcp_twelve_months_df.plot()\n",
    "plt.show()"
   ]
  },
  {
   "cell_type": "code",
   "execution_count": null,
   "metadata": {
    "collapsed": true
   },
   "outputs": [],
   "source": []
  },
  {
   "cell_type": "code",
   "execution_count": 12,
   "metadata": {
    "collapsed": true
   },
   "outputs": [],
   "source": [
    "# # Retrieve the last 12 months of precipitation data.\n",
    "# # Select only the date and prcp values.\n",
    "\n",
    "# max_date = session.query(func.max(func.strftime(\"%Y/%m/%d\", Measurement.date))).all()\n",
    "# max_date = datetime.strptime(max_date[0][0], \"%Y/%m/%d\").date()\n",
    "\n",
    "# # one_year = (max_date - relativedelta(years=1))\n",
    "\n",
    "\n",
    "# # sel = [Measurement.date, Measurement.prcp]\n",
    "\n",
    "# sel = [Measurement.date, \n",
    "#        func.avg(Measurement.prcp)]\n",
    "\n",
    "# # test2 = session.query(*sel).\\\n",
    "# #     filter(Measurement.date >= one_year).all()\n",
    "# # print(test2)\n",
    "\n",
    "\n",
    "# # YES!!\n",
    "# # test3 = session.query(*sel).\\\n",
    "# #     filter(Measurement.date >= (max_date - relativedelta(years=1))).all()\n",
    "# # print(test3)\n",
    "\n",
    "# test4 = session.query(*sel).\\\n",
    "#     filter(Measurement.date >= (max_date - relativedelta(years=1))).\\\n",
    "#     group_by(Measurement.date).all()\n",
    "# print(test4)\n",
    "\n"
   ]
  },
  {
   "cell_type": "code",
   "execution_count": 13,
   "metadata": {},
   "outputs": [],
   "source": [
    "\n",
    "\n",
    "# # sel = [Measurement.date, \n",
    "# #        func.avg(Measurement.prcp)]\n",
    "\n",
    "# sel = [Measurement.date, Measurement.prcp]\n",
    "\n",
    "# # precipitation_12_months = session.query(*sel).\\\n",
    "# #     filter(func.strftime(\"%m/%d/%y\", Measurement.date) >= \"5/10/15\").all()\n",
    "    \n",
    "# precipitation_sample = session.query(*sel).\\\n",
    "#     filter(func.strftime(\"%YY/%m/%d\", Measurement.date) >= \"2015/10/15\").all()\n",
    "\n",
    "# # precipitation_12_months = session.query(*sel).\\\n",
    "# #     filter(func.strftime(\"%m/%d/%y\", Measurement.date) >= \"5/10/15\").\\\n",
    "# #     group_by(Measurement.date).\\\n",
    "# #     order_by(Measurement.date).all()\n",
    "\n",
    "# print(precipitation_sample)"
   ]
  },
  {
   "cell_type": "code",
   "execution_count": 14,
   "metadata": {},
   "outputs": [],
   "source": [
    "# max_date = session.query(func.max(func.strftime(\"%Y/%m/%d\", Measurement.date))).all()\n",
    "# print(max_date)"
   ]
  },
  {
   "cell_type": "code",
   "execution_count": 15,
   "metadata": {},
   "outputs": [],
   "source": [
    "# #dates_list = [dt.datetime.strptime(date, '\"%Y-%m-%d\"').date() for date in dates]\n",
    "\n",
    "# # print(max_date[0])\n",
    "# # print(max_date[0][0])\n",
    "\n",
    "# #type(max_date[0][0])\n",
    "\n",
    "# jessica = datetime.strptime(max_date[0][0], \"%Y/%m/%d\").date()\n",
    "# # type(jessica)\n",
    "# print(jessica)\n",
    "\n",
    "# # james = datetime.strptime(max_date[0][0], \"%Y/%m/%d\").date()\n",
    "# # # type(james)\n",
    "# # print(james)\n",
    "\n",
    "# # datetime.strptime(max_date[0], \"%Y/%m/%d\")\n",
    "\n",
    "# # james = datetime.strptime(max_date[0], \"%Y/%m/%d\")\n",
    "# # print(james)\n",
    "# # type(james)\n",
    "# #max_date = datetime(max_date)"
   ]
  },
  {
   "cell_type": "code",
   "execution_count": 16,
   "metadata": {},
   "outputs": [],
   "source": [
    "# max_date = datetime.strptime(max_date[0][0], \"%Y/%m/%d\").date()\n",
    "# #"
   ]
  },
  {
   "cell_type": "code",
   "execution_count": 17,
   "metadata": {
    "collapsed": true
   },
   "outputs": [],
   "source": [
    "#attacks = session.query(Sharks) \n",
    "# for attack in attacks:\n",
    "#     print(attack.location)"
   ]
  },
  {
   "cell_type": "code",
   "execution_count": 18,
   "metadata": {},
   "outputs": [],
   "source": [
    "# for x in precipitation_12_months:\n",
    "#     print(x.prcp)"
   ]
  },
  {
   "cell_type": "code",
   "execution_count": 19,
   "metadata": {},
   "outputs": [],
   "source": [
    "# if '2017-10-1' <= '2017-9-31':\n",
    "#     print (\"True\")"
   ]
  },
  {
   "cell_type": "code",
   "execution_count": 20,
   "metadata": {},
   "outputs": [],
   "source": [
    "# type(max_date)"
   ]
  },
  {
   "cell_type": "code",
   "execution_count": 21,
   "metadata": {},
   "outputs": [],
   "source": [
    "# print(max_date)"
   ]
  },
  {
   "cell_type": "code",
   "execution_count": 22,
   "metadata": {},
   "outputs": [],
   "source": [
    "# # new_date = (now + relativedelta(years=1)).date()\n",
    "# # print(new_date)\n",
    "\n",
    "# one_year = (max_date - relativedelta(years=1))\n",
    "# print(one_year)"
   ]
  },
  {
   "cell_type": "code",
   "execution_count": null,
   "metadata": {},
   "outputs": [],
   "source": []
  },
  {
   "cell_type": "code",
   "execution_count": 23,
   "metadata": {
    "collapsed": true
   },
   "outputs": [],
   "source": [
    "# ### THIS ISNT WORKING - RETURNS BACK TO JAN 2016\n",
    "\n",
    "# test = session.query(*sel).\\\n",
    "#     filter(func.strftime(\"%Y/%m/%d\", Measurement.date) >= one_year).all()\n",
    "    \n",
    "# # precip = session.query(*sel).\\\n",
    "# #     filter(datetime.strptime(\"%Y/%m/%d\", Measurement.date) >= one_year)\n",
    "  \n",
    "    \n",
    "# # test = session.query(*sel).\\\n",
    "# #     filter(func.strftime(\"%YY/%m/%d\", Measurement.date) >= \"2016/08/15\").all()\n",
    "    \n",
    "# print(test)"
   ]
  },
  {
   "cell_type": "code",
   "execution_count": 24,
   "metadata": {},
   "outputs": [],
   "source": [
    "# test2 = session.query(*sel).\\\n",
    "#     filter(Measurement.date >= one_year).all()\n",
    "# print(test2)"
   ]
  },
  {
   "cell_type": "code",
   "execution_count": null,
   "metadata": {
    "collapsed": true
   },
   "outputs": [],
   "source": []
  },
  {
   "cell_type": "code",
   "execution_count": null,
   "metadata": {
    "collapsed": true
   },
   "outputs": [],
   "source": []
  },
  {
   "cell_type": "code",
   "execution_count": null,
   "metadata": {
    "collapsed": true
   },
   "outputs": [],
   "source": []
  }
 ],
 "metadata": {
  "kernelspec": {
   "display_name": "Python 3",
   "language": "python",
   "name": "python3"
  },
  "language_info": {
   "codemirror_mode": {
    "name": "ipython",
    "version": 3
   },
   "file_extension": ".py",
   "mimetype": "text/x-python",
   "name": "python",
   "nbconvert_exporter": "python",
   "pygments_lexer": "ipython3",
   "version": "3.6.2"
  }
 },
 "nbformat": 4,
 "nbformat_minor": 2
}
